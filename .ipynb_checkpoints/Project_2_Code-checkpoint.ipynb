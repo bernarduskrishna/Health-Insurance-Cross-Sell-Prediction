{
 "cells": [
  {
   "cell_type": "code",
   "execution_count": 14,
   "metadata": {},
   "outputs": [],
   "source": [
    "import pandas as pd\n",
    "import numpy as np\n",
    "from sklearn.preprocessing import OneHotEncoder\n",
    "from sklearn.linear_model import LogisticRegression\n",
    "from sklearn.model_selection import train_test_split\n",
    "from sklearn.model_selection import GridSearchCV\n",
    "from sklearn.tree import DecisionTreeClassifier\n",
    "from sklearn.ensemble import AdaBoostClassifier\n",
    "from sklearn.ensemble import GradientBoostingClassifier\n",
    "from sklearn.ensemble import RandomForestClassifier\n",
    "from sklearn import tree\n",
    "import matplotlib.pyplot as plt\n",
    "from sklearn.metrics import roc_auc_score\n",
    "from sklearn.model_selection import train_test_split\n",
    "from sklearn.model_selection import StratifiedKFold\n",
    "from sklearn.model_selection import cross_val_score, StratifiedKFold"
   ]
  },
  {
   "cell_type": "code",
   "execution_count": 15,
   "metadata": {},
   "outputs": [],
   "source": [
    "train_data = pd.read_csv('Project2_Train.csv')\n",
    "test_data = pd.read_csv('Project2_Test.csv')\n",
    "test_data = test_data.rename({'Damage': 'VehicleDamage'}, axis=1)\n",
    "\n",
    "# np.unique(train_data['Response'], return_counts = True)\n",
    "# combined = pd.concat([train_data, test_data], ignore_index = True)\n",
    "\n",
    "# set_train_indices = set(np.random.choice(range(0, 20000), size=10000, replace=False, p=None))\n",
    "# train_indices = [i in set_train_indices for i in range(20000)]\n",
    "# test_indices = [i not in set_train_indices for i in range(20000)]\n",
    "\n",
    "# train_data = combined[train_indices].reset_index()\n",
    "# test_data = combined[test_indices].reset_index()"
   ]
  },
  {
   "cell_type": "code",
   "execution_count": 16,
   "metadata": {},
   "outputs": [],
   "source": [
    "def preprocess(data, oneHotEncodedCategories, drop_mystery):\n",
    "    return_data = data.copy()\n",
    "    for cat in oneHotEncodedCategories:\n",
    "        encoder = OneHotEncoder()\n",
    "        encoder_df = pd.DataFrame(encoder.fit_transform(return_data[[cat]]).toarray())\n",
    "        encoder_df.columns = [cat + \" \" + name.split('_', 1)[1] for name in encoder.get_feature_names()]\n",
    "        return_data = return_data.join(encoder_df)\n",
    "        return_data.drop(cat, axis = 1, inplace = True)\n",
    "    if drop_mystery:\n",
    "        return_data.drop('Mystery', axis = 1, inplace = True)\n",
    "    return return_data"
   ]
  },
  {
   "cell_type": "code",
   "execution_count": 17,
   "metadata": {},
   "outputs": [],
   "source": [
    "X_train_before = train_data[['Gender', 'Age', 'Region_Code', 'Age.1', 'VehicleDamage', 'Premium', 'Vintage', 'Mystery']]\n",
    "y_train = train_data['Response']\n",
    "X_test_before = test_data[['Gender', 'Age', 'Region_Code', 'Age.1', 'VehicleDamage', 'Premium', 'Vintage', 'Mystery']]\n",
    "y_test = test_data['Response']\n",
    "\n",
    "X_train = preprocess(X_train_before, ['Gender', 'Region_Code', 'VehicleDamage', 'Age.1'], True)\n",
    "X_test = preprocess(X_test_before, ['Gender', 'Region_Code', 'VehicleDamage', 'Age.1'], True)"
   ]
  },
  {
   "cell_type": "code",
   "execution_count": 43,
   "metadata": {},
   "outputs": [],
   "source": [
    "def train_one_model(estimator, param_grid):\n",
    "    grid_rf_class = GridSearchCV(\n",
    "        estimator = estimator,\n",
    "        param_grid = param_grid,\n",
    "        scoring = 'roc_auc',\n",
    "        n_jobs = 3,\n",
    "        cv = StratifiedKFold(),\n",
    "        refit = True,\n",
    "        return_train_score = True\n",
    "    )\n",
    "    \n",
    "    grid_rf_class.fit(X_train, y_train)\n",
    "    \n",
    "#     print(grid_rf_class.cv_results_)\n",
    "\n",
    "    return grid_rf_class\n",
    "\n",
    "#     return (grid_rf_class.best_score_, grid_rf_class.best_params_, grid_rf_class.best_estimator_)"
   ]
  },
  {
   "cell_type": "code",
   "execution_count": 48,
   "metadata": {},
   "outputs": [
    {
     "name": "stdout",
     "output_type": "stream",
     "text": [
      "--------------------------\n",
      "Logistic Regression\n",
      "best cv score: 0.8138755629866526\n",
      "best params: {'class_weight': {0: 0.6666666666666666, 1: 0.33333333333333337}}\n",
      "roc auc score of test: 0.49988420565076425\n",
      "--------------------------\n",
      "--------------------------\n",
      "Decision Tree\n",
      "best cv score: 0.820556746327315\n",
      "best params: {'class_weight': {0: 0.8333333333333333, 1: 0.16666666666666674}, 'max_depth': 4}\n",
      "roc auc score of test: 0.5\n",
      "--------------------------\n"
     ]
    }
   ],
   "source": [
    "estimator_names = [\"Logistic Regression\", \"Decision Tree\", \"Adaboost\", \"Random Forest\", \"Gradient Boost\"]\n",
    "estimators = [LogisticRegression(), DecisionTreeClassifier(), AdaBoostClassifier(), RandomForestClassifier(), GradientBoostingClassifier()]\n",
    "\n",
    "diff_weights = np.linspace(0.0, 1, 7)\n",
    "\n",
    "param_grids = [{\n",
    "                   'class_weight': [{0: w, 1: (1 - w)} for w in diff_weights]\n",
    "               }, \n",
    "               {\n",
    "                   'class_weight': [{0: w, 1: (1 - w)} for w in diff_weights],\n",
    "                   'max_depth': [2, 3, 4, 5, 6, 7]\n",
    "               },\n",
    "               {\n",
    "                   'n_estimators': [10, 50, 100],\n",
    "               },\n",
    "               {},\n",
    "               {\n",
    "                   'learning_rate': [0.01, 0.05, 0.1, 0.2],\n",
    "                   'n_estimators': [40, 55, 70, 100],\n",
    "                   'max_depth': [2, 4, 7, 10]\n",
    "               }\n",
    "              ]\n",
    "\n",
    "# for i in range(0, len(estimators)):\n",
    "for i in range(0, 2):\n",
    "    print('--------------------------')\n",
    "    grid_rf_class = train_one_model(estimators[i], param_grids[i])\n",
    "    \n",
    "    print(estimator_names[i])\n",
    "    \n",
    "    print('best cv score: ' + str(grid_rf_class.best_score_))\n",
    "    print('best params: ' + str(grid_rf_class.best_params_))\n",
    "    \n",
    "    y_pred = grid_rf_class.best_estimator_.predict(X_test)\n",
    "\n",
    "    print('roc auc score of test: ' + str(roc_auc_score(y_test, y_pred)))\n",
    "    print('--------------------------')"
   ]
  },
  {
   "cell_type": "code",
   "execution_count": null,
   "metadata": {},
   "outputs": [],
   "source": [
    "diff_weights = np.linspace(0.0, 1, 7)\n",
    "weights = [{0: w, 1: (1 - w)} for w in diff_weights]\n",
    "\n",
    "scores = []\n",
    "\n",
    "for w in weights:\n",
    "    kf = StratifiedKFold(n_splits = 10, shuffle = True)\n",
    "    model = DecisionTreeClassifier(max_depth = 5, class_weight = w, random_state = 1313)\n",
    "    model.fit(X_train, y_train)\n",
    "    \n",
    "    cv_scores = cross_val_score(model, X_train, y_train, cv=kf, scoring='roc_auc')\n",
    "    scores_local.append(np.mean(cv_scores))"
   ]
  },
  {
   "cell_type": "code",
   "execution_count": 13,
   "metadata": {},
   "outputs": [
    {
     "data": {
      "image/png": "[encoded data removed]",
      "text/plain": [
       "<Figure size 432x288 with 1 Axes>"
      ]
     },
     "metadata": {
      "needs_background": "light"
     },
     "output_type": "display_data"
    },
    {
     "name": "stdout",
     "output_type": "stream",
     "text": [
      "(array([0, 1], dtype=int64), array([5720, 4280], dtype=int64))\n",
      "0.7892922834872406\n",
      "0.7766836362549729\n"
     ]
    }
   ],
   "source": [
    "# X_train = new_X_train\n",
    "# y_train = new_y_train\n",
    "\n",
    "max_depths = [1, 2, 3, 4, 5, 6, 7, 8, 9, 10]\n",
    "scores = []\n",
    "\n",
    "for max_depth in max_depths:\n",
    "    scores_local = []\n",
    "    for i in range(5):\n",
    "        # 10-fold CV\n",
    "        kf = StratifiedKFold(n_splits = 10, shuffle = True)\n",
    "\n",
    "    #     indices = list(kf.split(X_train, y_train))[0][0]\n",
    "    #     print(np.unique(y_train[indices], return_counts=True))\n",
    "    #     break\n",
    "\n",
    "        model = DecisionTreeClassifier(max_depth = max_depth, class_weight = {0:14, 1:86}, random_state = 1313)\n",
    "        model.fit(X_train, y_train)\n",
    "\n",
    "        y_pred = model.predict(X_train)\n",
    "#         print(roc_auc_score(y_train, y_pred))\n",
    "#         print(np.unique(y_pred, return_counts = True))\n",
    "\n",
    "        cv_scores = cross_val_score(model, X_train, y_train, cv=kf, scoring='roc_auc')\n",
    "        \n",
    "        new_model = DecisionTreeClassifier(max_depth = max_depth)\n",
    "        new_model.fit(X_train, y_train)\n",
    "#         print(np.unique(new_model.predict(X_train), return_counts = True))\n",
    "#         print(cv_scores)\n",
    "\n",
    "#         scores_local.append(sum(cv_scores) / len(cv_scores))\n",
    "        scores_local.append(np.mean(cv_scores))\n",
    "    scores.append(np.mean(scores_local))\n",
    "    \n",
    "plt.plot(max_depths, scores)\n",
    "plt.show()\n",
    "\n",
    "max_value = max(scores)\n",
    "index = scores.index(max_value)\n",
    "\n",
    "model = DecisionTreeClassifier(max_depth = max_depths[index], class_weight = {0:14, 1:86})\n",
    "model.fit(X_train, y_train)\n",
    "\n",
    "y_pred_train = model.predict(X_train)\n",
    "print(np.unique(y_pred_train, return_counts = True))\n",
    "print(roc_auc_score(y_train, y_pred_train))\n",
    "\n",
    "y_pred = model.predict(X_test)\n",
    "# print(np.unique(y_pred, return_counts = True))\n",
    "print(roc_auc_score(y_test, y_pred))\n",
    "\n",
    "# grid_rf_class = GridSearchCV(\n",
    "#     estimator = DecisionTreeClassifier(),\n",
    "#     param_grid = {'max_depth': [1, 2, 3, 4, 5, 6, 7, 8, 9, 10]},\n",
    "#     scoring = 'roc_auc',\n",
    "#     n_jobs = 3,\n",
    "#     cv = 10,\n",
    "#     refit = True,\n",
    "#     return_train_score = True\n",
    "# )\n",
    "\n",
    "# grid_rf_class.fit(X_train, y_train)\n",
    "\n",
    "# print(grid_rf_class.best_params_)\n",
    "\n",
    "# y_pred = grid_rf_class.predict(X_train)\n",
    "\n",
    "# print(np.unique(y_pred, return_counts = True))\n",
    "\n",
    "# # roc_auc_score(y_test, y_pred)"
   ]
  },
  {
   "cell_type": "code",
   "execution_count": null,
   "metadata": {},
   "outputs": [],
   "source": []
  }
 ],
 "metadata": {
  "kernelspec": {
   "display_name": "Python 3",
   "language": "python",
   "name": "python3"
  },
  "language_info": {
   "codemirror_mode": {
    "name": "ipython",
    "version": 3
   },
   "file_extension": ".py",
   "mimetype": "text/x-python",
   "name": "python",
   "nbconvert_exporter": "python",
   "pygments_lexer": "ipython3",
   "version": "3.7.6"
  }
 },
 "nbformat": 4,
 "nbformat_minor": 4
}
