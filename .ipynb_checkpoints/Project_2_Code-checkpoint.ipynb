{
 "cells": [
  {
   "cell_type": "code",
   "execution_count": 68,
   "metadata": {},
   "outputs": [],
   "source": [
    "import pandas as pd\n",
    "import numpy as np\n",
    "from sklearn.preprocessing import OneHotEncoder\n",
    "from sklearn.linear_model import LogisticRegression\n",
    "from sklearn.model_selection import train_test_split\n",
    "from sklearn.model_selection import GridSearchCV\n",
    "from sklearn.tree import DecisionTreeClassifier\n",
    "from sklearn.ensemble import ExtraTreesClassifier\n",
    "from sklearn.ensemble import GradientBoostingClassifier\n",
    "from sklearn.ensemble import BaggingClassifier\n",
    "from sklearn import tree\n",
    "import matplotlib.pyplot as plt\n",
    "from sklearn.metrics import roc_auc_score\n",
    "from sklearn.model_selection import train_test_split\n",
    "from sklearn.model_selection import StratifiedKFold\n",
    "from sklearn.model_selection import cross_val_score, StratifiedKFold"
   ]
  },
  {
   "cell_type": "code",
   "execution_count": 3,
   "metadata": {},
   "outputs": [],
   "source": [
    "train_data = pd.read_csv('Project2_Train.csv')\n",
    "test_data = pd.read_csv('Project2_Test.csv')\n",
    "test_data = test_data.rename({'Damage': 'VehicleDamage'}, axis=1)\n",
    "\n",
    "# np.unique(train_data['Response'], return_counts = True)\n",
    "# combined = pd.concat([train_data, test_data], ignore_index = True)\n",
    "# print(train_data)\n",
    "\n",
    "# train_data, test_data = train_test_split(combined\n",
    "#                                          , stratify = combined['Response'], shuffle = True, test_size = 0.5, random_state = 1313)\n",
    "\n",
    "# train_data.reset_index(inplace = True)\n",
    "# test_data.reset_index(inplace = True)\n",
    "\n",
    "# print(train_data)\n",
    "# set_train_indices = set(np.random.choice(range(0, 20000), size=10000, replace=False, p=None))\n",
    "# train_indices = [i in set_train_indices for i in range(20000)]\n",
    "# test_indices = [i not in set_train_indices for i in range(20000)]\n",
    "\n",
    "# train_data = combined[train_indices].reset_index()\n",
    "# test_data = combined[test_indices].reset_index()"
   ]
  },
  {
   "cell_type": "code",
   "execution_count": 4,
   "metadata": {},
   "outputs": [],
   "source": [
    "def preprocess(data, oneHotEncodedCategories, drop_mystery):\n",
    "    return_data = data.copy()\n",
    "    for cat in oneHotEncodedCategories:\n",
    "        encoder = OneHotEncoder()\n",
    "        encoder_df = pd.DataFrame(encoder.fit_transform(return_data[[cat]]).toarray())\n",
    "        encoder_df.columns = [cat + \" \" + name.split('_', 1)[1] for name in encoder.get_feature_names()]\n",
    "        return_data = return_data.join(encoder_df)\n",
    "        return_data.drop(cat, axis = 1, inplace = True)\n",
    "    if drop_mystery:\n",
    "        return_data.drop('Mystery', axis = 1, inplace = True)\n",
    "    return return_data"
   ]
  },
  {
   "cell_type": "code",
   "execution_count": 5,
   "metadata": {},
   "outputs": [],
   "source": [
    "X_train_before = train_data[['Gender', 'Age', 'Region_Code', 'Age.1', 'VehicleDamage', 'Premium', 'Vintage', 'Mystery']]\n",
    "y_train = train_data['Response']\n",
    "X_test_before = test_data[['Gender', 'Age', 'Region_Code', 'Age.1', 'VehicleDamage', 'Premium', 'Vintage', 'Mystery']]\n",
    "y_test = test_data['Response']\n",
    "\n",
    "X_train = preprocess(X_train_before, ['Gender', 'Region_Code', 'VehicleDamage', 'Age.1'], True)\n",
    "X_test = preprocess(X_test_before, ['Gender', 'Region_Code', 'VehicleDamage', 'Age.1'], True)"
   ]
  },
  {
   "cell_type": "code",
   "execution_count": 70,
   "metadata": {},
   "outputs": [],
   "source": [
    "def train_one_model(estimator, param_grid):\n",
    "    grid_rf_class = GridSearchCV(\n",
    "        estimator = estimator,\n",
    "        param_grid = param_grid,\n",
    "        scoring = 'roc_auc',\n",
    "        n_jobs = -4,\n",
    "        cv = StratifiedKFold(),\n",
    "        refit = True,\n",
    "        return_train_score = True\n",
    "    )\n",
    "    \n",
    "    grid_rf_class.fit(X_train, y_train)\n",
    "    \n",
    "#     print(grid_rf_class.cv_results_)\n",
    "\n",
    "    return grid_rf_class\n",
    "\n",
    "#     return (grid_rf_class.best_score_, grid_rf_class.best_params_, grid_rf_class.best_estimator_)"
   ]
  },
  {
   "cell_type": "code",
   "execution_count": 72,
   "metadata": {},
   "outputs": [
    {
     "name": "stdout",
     "output_type": "stream",
     "text": [
      "--------------------------\n",
      "Logistic Regression Done\n",
      "best cv score: 0.6724990146745541\n",
      "best params: {}\n",
      "roc auc score of test: 0.8151762162481545\n",
      "--------------------------\n",
      "--------------------------\n",
      "Decision Tree Done\n",
      "best cv score: 0.8187324989497577\n",
      "best params: {'max_depth': 4, 'min_samples_split': 0.06444444444444444}\n",
      "roc auc score of test: 0.8161340664258869\n",
      "--------------------------\n",
      "--------------------------\n",
      "Extra Trees Classifier Done\n",
      "best cv score: 0.8179634060496486\n",
      "best params: {'max_depth': 4, 'min_samples_split': 0.01, 'n_estimators': 50}\n",
      "roc auc score of test: 0.8203224431181482\n",
      "--------------------------\n",
      "--------------------------\n",
      "Bagging Classifier Done\n",
      "best cv score: 0.8271659093039266\n",
      "best params: {'base_estimator': DecisionTreeClassifier(max_depth=4), 'max_samples': 1.0, 'n_estimators': 30}\n",
      "roc auc score of test: 0.8252810135299415\n",
      "--------------------------\n",
      "--------------------------\n",
      "Gradient Boost Done\n",
      "best cv score: 0.8284863668574353\n",
      "best params: {'learning_rate': 0.2, 'max_depth': 4, 'n_estimators': 25}\n",
      "roc auc score of test: 0.8202494773973505\n",
      "--------------------------\n"
     ]
    }
   ],
   "source": [
    "estimator_names = [\"Logistic Regression\", \"Decision Tree\", \"AdaBoost Classifier\", \"Bagging Classifier\", \"Gradient Boost\"]\n",
    "estimators = [LogisticRegression(), \n",
    "              DecisionTreeClassifier(), \n",
    "              ExtraTreesClassifier(n_jobs = -4), \n",
    "              BaggingClassifier(n_jobs = -4), \n",
    "              GradientBoostingClassifier()]\n",
    "\n",
    "grids = []\n",
    "\n",
    "param_grids = [{}, \n",
    "               {\n",
    "                   'max_depth': range(2, 5, 1),\n",
    "                   'min_samples_split': np.linspace(0.01, 0.5, 10)\n",
    "               },\n",
    "               {\n",
    "                   'n_estimators': range(10, 60, 5),\n",
    "                   'max_depth': range(2, 5, 1),\n",
    "                   'min_samples_split': np.linspace(0.01, 0.5, 10)\n",
    "               },\n",
    "               {\n",
    "                   'max_samples': np.linspace(0.1, 1.0, 5),\n",
    "                   'n_estimators': range(10, 60, 5),\n",
    "                   'base_estimator': [DecisionTreeClassifier(max_depth = i) for i in range(2, 5, 1)]\n",
    "               },\n",
    "               {\n",
    "                   'learning_rate': np.linspace(0.01, 0.2, 5),\n",
    "                   'n_estimators': range(10, 60, 5),\n",
    "                   'max_depth': range(2, 5, 1)\n",
    "               }\n",
    "              ]\n",
    "\n",
    "for i in range(0, len(estimators)):\n",
    "    print('--------------------------')\n",
    "    grid_rf_class = train_one_model(estimators[i], param_grids[i])\n",
    "    grids.append(grid_rf_class)\n",
    "    \n",
    "    print(estimator_names[i] + ' Done')\n",
    "    \n",
    "#     print(estimator_names[i])\n",
    "    \n",
    "    print('best cv score: ' + str(grid_rf_class.best_score_))\n",
    "    print('best params: ' + str(grid_rf_class.best_params_))\n",
    "    \n",
    "    y_pred = grid_rf_class.best_estimator_.predict_proba(X_test)[:, 1]\n",
    "\n",
    "    print('roc auc score of test: ' + str(roc_auc_score(y_test, y_pred)))\n",
    "    print('--------------------------')"
   ]
  },
  {
   "cell_type": "code",
   "execution_count": 57,
   "metadata": {},
   "outputs": [
    {
     "name": "stderr",
     "output_type": "stream",
     "text": [
      "[Parallel(n_jobs=1)]: Using backend SequentialBackend with 1 concurrent workers.\n",
      "[Parallel(n_jobs=1)]: Done  10 out of  10 | elapsed:    7.8s finished\n",
      "[Parallel(n_jobs=1)]: Using backend SequentialBackend with 1 concurrent workers.\n",
      "[Parallel(n_jobs=1)]: Done  10 out of  10 | elapsed:    7.6s finished\n",
      "[Parallel(n_jobs=1)]: Using backend SequentialBackend with 1 concurrent workers.\n",
      "[Parallel(n_jobs=1)]: Done  10 out of  10 | elapsed:    8.7s finished\n",
      "[Parallel(n_jobs=1)]: Using backend SequentialBackend with 1 concurrent workers.\n",
      "[Parallel(n_jobs=1)]: Done  10 out of  10 | elapsed:    8.3s finished\n",
      "[Parallel(n_jobs=1)]: Using backend SequentialBackend with 1 concurrent workers.\n",
      "[Parallel(n_jobs=1)]: Done  10 out of  10 | elapsed:    8.5s finished\n",
      "[Parallel(n_jobs=1)]: Using backend SequentialBackend with 1 concurrent workers.\n",
      "[Parallel(n_jobs=1)]: Done  10 out of  10 | elapsed:    8.6s finished\n",
      "[Parallel(n_jobs=1)]: Using backend SequentialBackend with 1 concurrent workers.\n",
      "[Parallel(n_jobs=1)]: Done  10 out of  10 | elapsed:    9.0s finished\n"
     ]
    },
    {
     "data": {
      "image/png": "[encoded data removed]",
      "text/plain": [
       "<Figure size 432x288 with 1 Axes>"
      ]
     },
     "metadata": {
      "needs_background": "light"
     },
     "output_type": "display_data"
    },
    {
     "name": "stdout",
     "output_type": "stream",
     "text": [
      "0.825380560625147\n"
     ]
    }
   ],
   "source": [
    "# cands = range(2, 5, 1)\n",
    "cands = np.linspace(0.01, 0.2, 5)\n",
    "# cands = [3]\n",
    "# cands = range(10, 100, 15)\n",
    "scores = []\n",
    "\n",
    "for cand in cands:\n",
    "    kf = StratifiedKFold(n_splits = 10, shuffle = True, random_state = 1313)\n",
    "\n",
    "    model = GradientBoostingClassifier(learning_rate = cand)\n",
    "\n",
    "    # L2 Loss\n",
    "    cv_scores = cross_val_score(model, X_train, y_train, cv=kf, scoring='roc_auc', verbose = 1)\n",
    "\n",
    "    scores.append(sum(cv_scores) / len(cv_scores))\n",
    "    \n",
    "plt.plot(cands, scores)\n",
    "plt.show()\n",
    "\n",
    "max_value = max(scores)\n",
    "max_index = scores.index(max_value)\n",
    "print(max_value)"
   ]
  },
  {
   "cell_type": "code",
   "execution_count": null,
   "metadata": {},
   "outputs": [],
   "source": []
  }
 ],
 "metadata": {
  "kernelspec": {
   "display_name": "Python 3",
   "language": "python",
   "name": "python3"
  },
  "language_info": {
   "codemirror_mode": {
    "name": "ipython",
    "version": 3
   },
   "file_extension": ".py",
   "mimetype": "text/x-python",
   "name": "python",
   "nbconvert_exporter": "python",
   "pygments_lexer": "ipython3",
   "version": "3.7.6"
  }
 },
 "nbformat": 4,
 "nbformat_minor": 4
}
