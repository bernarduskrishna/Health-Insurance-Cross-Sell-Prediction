{
 "cells": [
  {
   "cell_type": "code",
   "execution_count": 72,
   "metadata": {},
   "outputs": [],
   "source": [
    "import pandas as pd\n",
    "import numpy as np\n",
    "from sklearn.preprocessing import OneHotEncoder\n",
    "from sklearn.linear_model import LogisticRegression\n",
    "from sklearn.model_selection import train_test_split\n",
    "from sklearn.model_selection import GridSearchCV\n",
    "from sklearn.tree import DecisionTreeClassifier\n",
    "from sklearn.ensemble import AdaBoostClassifier\n",
    "from sklearn.ensemble import GradientBoostingClassifier\n",
    "from sklearn.ensemble import RandomForestClassifier\n",
    "from sklearn import tree\n",
    "import matplotlib.pyplot as plt\n",
    "from sklearn.metrics import roc_auc_score\n",
    "from sklearn.model_selection import train_test_split\n",
    "from sklearn.model_selection import StratifiedKFold\n",
    "from sklearn.model_selection import cross_val_score, StratifiedKFold"
   ]
  },
  {
   "cell_type": "code",
   "execution_count": 134,
   "metadata": {},
   "outputs": [],
   "source": [
    "train_data = pd.read_csv('Project2_Train.csv')\n",
    "test_data = pd.read_csv('Project2_Test.csv')\n",
    "test_data = test_data.rename({'Damage': 'VehicleDamage'}, axis=1)\n",
    "\n",
    "# np.unique(train_data['Response'], return_counts = True)\n",
    "# combined = pd.concat([train_data, test_data], ignore_index = True)\n",
    "\n",
    "# set_train_indices = set(np.random.choice(range(0, 20000), size=10000, replace=False, p=None))\n",
    "# train_indices = [i in set_train_indices for i in range(20000)]\n",
    "# test_indices = [i not in set_train_indices for i in range(20000)]\n",
    "\n",
    "# train_data = combined[train_indices].reset_index()\n",
    "# test_data = combined[test_indices].reset_index()"
   ]
  },
  {
   "cell_type": "code",
   "execution_count": 135,
   "metadata": {},
   "outputs": [],
   "source": [
    "def preprocess(data, oneHotEncodedCategories, drop_mystery):\n",
    "    return_data = data.copy()\n",
    "    for cat in oneHotEncodedCategories:\n",
    "        encoder = OneHotEncoder()\n",
    "        encoder_df = pd.DataFrame(encoder.fit_transform(return_data[[cat]]).toarray())\n",
    "        encoder_df.columns = [cat + \" \" + name.split('_', 1)[1] for name in encoder.get_feature_names()]\n",
    "        return_data = return_data.join(encoder_df)\n",
    "        return_data.drop(cat, axis = 1, inplace = True)\n",
    "    if drop_mystery:\n",
    "        return_data.drop('Mystery', axis = 1, inplace = True)\n",
    "    return return_data"
   ]
  },
  {
   "cell_type": "code",
   "execution_count": 138,
   "metadata": {},
   "outputs": [
    {
     "name": "stdout",
     "output_type": "stream",
     "text": [
      "      VehicleDamage Yes\n",
      "0                   1.0\n",
      "1                   1.0\n",
      "2                   1.0\n",
      "3                   1.0\n",
      "4                   1.0\n",
      "...                 ...\n",
      "9995                0.0\n",
      "9996                1.0\n",
      "9997                0.0\n",
      "9998                1.0\n",
      "9999                1.0\n",
      "\n",
      "[10000 rows x 1 columns]\n"
     ]
    }
   ],
   "source": [
    "# X_train_before = train_data[['Gender', 'Age', 'Region_Code', 'Age.1', 'VehicleDamage', 'Premium', 'Vintage', 'Mystery']]\n",
    "# y_train_val = train_data['Response']\n",
    "# X_test_before = test_data[['Gender', 'Age', 'Region_Code', 'Age.1', 'VehicleDamage', 'Premium', 'Vintage', 'Mystery']]\n",
    "# y_test = test_data['Response']\n",
    "\n",
    "# X_train_val = preprocess(X_train_before, ['Gender', 'Region_Code', 'VehicleDamage', 'Age.1'], True)\n",
    "# X_test = preprocess(X_test_before, ['Gender', 'Region_Code', 'VehicleDamage', 'Age.1'], True)\n",
    "\n",
    "# X_train, X_val, y_train, y_val = train_test_split(X_train_val, y_train_val, test_size=0.1)\n",
    "\n",
    "# X_train_before = train_data[['Gender', 'Age', 'Region_Code', 'Age.1', 'VehicleDamage', 'Premium', 'Vintage', 'Mystery']]\n",
    "y_train = train_data['Response']\n",
    "# X_test_before = test_data[['Gender', 'Age', 'Region_Code', 'Age.1', 'VehicleDamage', 'Premium', 'Vintage', 'Mystery']]\n",
    "y_test = test_data['Response']\n",
    "\n",
    "# print(np.unique(X_train_before['Age.1']))\n",
    "\n",
    "# X_train = preprocess(X_train_before, ['Gender', 'Region_Code', 'VehicleDamage', 'Age.1'], True)\n",
    "# X_test = preprocess(X_test_before, ['Gender', 'Region_Code', 'VehicleDamage', 'Age.1'], True)\n",
    "\n",
    "X_train_before = train_data[['VehicleDamage', 'Mystery']]\n",
    "X_test_before = test_data[['VehicleDamage', 'Mystery']]\n",
    "\n",
    "X_train = preprocess(X_train_before, ['VehicleDamage'], True)\n",
    "X_train = X_train[['VehicleDamage Yes']]\n",
    "X_test = preprocess(X_test_before, ['VehicleDamage'], True)\n",
    "X_test = X_test[['VehicleDamage Yes']]\n",
    "\n",
    "print(X_test)\n",
    "\n",
    "# temp = X_train\n",
    "# X_train = X_test\n",
    "# X_test = temp\n",
    "\n",
    "# temp = y_train\n",
    "# y_train = y_test\n",
    "# y_test = temp\n",
    "\n",
    "# X_train = X_train[['Age', 'Premium', 'Vintage']]\n",
    "# X_test = X_test[['Age', 'Premium', 'Vintage']]\n",
    "# print(X_train)\n",
    "# print(y_train)"
   ]
  },
  {
   "cell_type": "code",
   "execution_count": 124,
   "metadata": {},
   "outputs": [
    {
     "name": "stdout",
     "output_type": "stream",
     "text": [
      "(array([ 0.,  1., 10., 11.]), array([4862,   22, 3812, 1304], dtype=int64))\n"
     ]
    },
    {
     "data": {
      "text/plain": [
       "(array([4862.,   22.,    0.,    0.,    0.,    0.,    0.,    0.,    0.,\n",
       "           0.,    0.,    0.,    0.,    0.,    0.,    0.,    0.,    0.,\n",
       "        3812., 1304.]),\n",
       " array([ 0.  ,  0.55,  1.1 ,  1.65,  2.2 ,  2.75,  3.3 ,  3.85,  4.4 ,\n",
       "         4.95,  5.5 ,  6.05,  6.6 ,  7.15,  7.7 ,  8.25,  8.8 ,  9.35,\n",
       "         9.9 , 10.45, 11.  ]),\n",
       " <a list of 20 Patch objects>)"
      ]
     },
     "execution_count": 124,
     "metadata": {},
     "output_type": "execute_result"
    },
    {
     "data": {
      "image/png": "[encoded data removed]",
      "text/plain": [
       "<Figure size 432x288 with 1 Axes>"
      ]
     },
     "metadata": {
      "needs_background": "light"
     },
     "output_type": "display_data"
    }
   ],
   "source": [
    "# Logistic Regression, Classification Tree, Extra Tree, Bagging, Gradient Boosting\n",
    "x = X_train['VehicleDamage Yes']\n",
    "pair = [x * 10 + y for x, y in list(zip(x, y_train))]\n",
    "print(np.unique(np.array(pair), return_counts = True))\n",
    "# print(len(list(zip(x, y_train))))\n",
    "# print(pair)\n",
    "\n",
    "plt.hist(pair, bins=20)"
   ]
  },
  {
   "cell_type": "code",
   "execution_count": 125,
   "metadata": {},
   "outputs": [
    {
     "name": "stdout",
     "output_type": "stream",
     "text": [
      "(array([ 0.,  1., 10., 11.]), array([4773,   23, 3863, 1341], dtype=int64))\n"
     ]
    },
    {
     "data": {
      "text/plain": [
       "(array([4773.,   23.,    0.,    0.,    0.,    0.,    0.,    0.,    0.,\n",
       "           0.,    0.,    0.,    0.,    0.,    0.,    0.,    0.,    0.,\n",
       "        3863., 1341.]),\n",
       " array([ 0.  ,  0.55,  1.1 ,  1.65,  2.2 ,  2.75,  3.3 ,  3.85,  4.4 ,\n",
       "         4.95,  5.5 ,  6.05,  6.6 ,  7.15,  7.7 ,  8.25,  8.8 ,  9.35,\n",
       "         9.9 , 10.45, 11.  ]),\n",
       " <a list of 20 Patch objects>)"
      ]
     },
     "execution_count": 125,
     "metadata": {},
     "output_type": "execute_result"
    },
    {
     "data": {
      "image/png": "[encoded data removed]",
      "text/plain": [
       "<Figure size 432x288 with 1 Axes>"
      ]
     },
     "metadata": {
      "needs_background": "light"
     },
     "output_type": "display_data"
    }
   ],
   "source": [
    "x = X_test['VehicleDamage Yes']\n",
    "pair = [x * 10 + y for x, y in list(zip(x, y_test))]\n",
    "print(np.unique(np.array(pair), return_counts = True))\n",
    "# print(len(list(zip(x, y_train))))\n",
    "# print(pair)\n",
    "\n",
    "plt.hist(pair, bins=20)"
   ]
  },
  {
   "cell_type": "code",
   "execution_count": null,
   "metadata": {},
   "outputs": [],
   "source": [
    "def train_one_model(estimator, param_grid):\n",
    "    grid_rf_class = GridSearchCV(\n",
    "        estimator = estimator,\n",
    "        param_grid = param_grid,\n",
    "        scoring = 'roc_auc',\n",
    "        n_jobs = 3,\n",
    "        cv = 3,\n",
    "        refit = True,\n",
    "        return_train_score = True\n",
    "    )\n",
    "    \n",
    "    grid_rf_class.fit(X_train, y_train)\n",
    "    \n",
    "#     print(grid_rf_class.cv_results_)\n",
    "    \n",
    "#     fig = plt.figure(figsize=(25,20))\n",
    "#     _ = tree.plot_tree(grid_rf_class.best_estimator_, \n",
    "#                        feature_names=X_train.columns,\n",
    "#                        filled=True)\n",
    "\n",
    "    return (grid_rf_class.best_score_, grid_rf_class.best_params_, grid_rf_class.best_estimator_)"
   ]
  },
  {
   "cell_type": "code",
   "execution_count": 18,
   "metadata": {},
   "outputs": [
    {
     "name": "stdout",
     "output_type": "stream",
     "text": [
      "--------------------------\n",
      "yeboi1\n",
      "yeboi2\n",
      "Logistic Regression\n",
      "0.5051876570851466\n",
      "{}\n",
      "0.5050151517415334\n",
      "--------------------------\n",
      "--------------------------\n",
      "yeboi1\n",
      "yeboi2\n",
      "Decision Tree\n",
      "0.507546260021541\n",
      "{'max_leaf_nodes': 10}\n",
      "0.5023340541333489\n",
      "--------------------------\n",
      "--------------------------\n",
      "yeboi1\n",
      "yeboi2\n",
      "Adaboost\n",
      "0.5102794155032758\n",
      "{'n_estimators': 50}\n",
      "0.5081796313325248\n",
      "--------------------------\n",
      "--------------------------\n",
      "yeboi1\n",
      "yeboi2\n",
      "Random Forest\n",
      "1.0\n",
      "{}\n",
      "0.5439434461756625\n",
      "--------------------------\n",
      "--------------------------\n"
     ]
    },
    {
     "ename": "KeyboardInterrupt",
     "evalue": "",
     "output_type": "error",
     "traceback": [
      "\u001b[1;31m---------------------------------------------------------------------------\u001b[0m",
      "\u001b[1;31mKeyboardInterrupt\u001b[0m                         Traceback (most recent call last)",
      "\u001b[1;32m<ipython-input-18-08b8373eb8dc>\u001b[0m in \u001b[0;36m<module>\u001b[1;34m\u001b[0m\n\u001b[0;32m     19\u001b[0m \u001b[1;32mfor\u001b[0m \u001b[0mi\u001b[0m \u001b[1;32min\u001b[0m \u001b[0mrange\u001b[0m\u001b[1;33m(\u001b[0m\u001b[1;36m0\u001b[0m\u001b[1;33m,\u001b[0m \u001b[0mlen\u001b[0m\u001b[1;33m(\u001b[0m\u001b[0mestimators\u001b[0m\u001b[1;33m)\u001b[0m\u001b[1;33m)\u001b[0m\u001b[1;33m:\u001b[0m\u001b[1;33m\u001b[0m\u001b[1;33m\u001b[0m\u001b[0m\n\u001b[0;32m     20\u001b[0m     \u001b[0mprint\u001b[0m\u001b[1;33m(\u001b[0m\u001b[1;34m'--------------------------'\u001b[0m\u001b[1;33m)\u001b[0m\u001b[1;33m\u001b[0m\u001b[1;33m\u001b[0m\u001b[0m\n\u001b[1;32m---> 21\u001b[1;33m     \u001b[0mbest_score\u001b[0m\u001b[1;33m,\u001b[0m \u001b[0mbest_params\u001b[0m\u001b[1;33m,\u001b[0m \u001b[0mbest_estimator\u001b[0m \u001b[1;33m=\u001b[0m \u001b[0mtrain_one_model\u001b[0m\u001b[1;33m(\u001b[0m\u001b[0mestimators\u001b[0m\u001b[1;33m[\u001b[0m\u001b[0mi\u001b[0m\u001b[1;33m]\u001b[0m\u001b[1;33m,\u001b[0m \u001b[0mparam_grids\u001b[0m\u001b[1;33m[\u001b[0m\u001b[0mi\u001b[0m\u001b[1;33m]\u001b[0m\u001b[1;33m)\u001b[0m\u001b[1;33m\u001b[0m\u001b[1;33m\u001b[0m\u001b[0m\n\u001b[0m\u001b[0;32m     22\u001b[0m \u001b[1;31m#     best_score = best_estimator.fit(X_train, y_train)\u001b[0m\u001b[1;33m\u001b[0m\u001b[1;33m\u001b[0m\u001b[1;33m\u001b[0m\u001b[0m\n\u001b[0;32m     23\u001b[0m     \u001b[0mprint\u001b[0m\u001b[1;33m(\u001b[0m\u001b[1;34m'yeboi2'\u001b[0m\u001b[1;33m)\u001b[0m\u001b[1;33m\u001b[0m\u001b[1;33m\u001b[0m\u001b[0m\n",
      "\u001b[1;32m<ipython-input-16-93282bc19946>\u001b[0m in \u001b[0;36mtrain_one_model\u001b[1;34m(estimator, param_grid)\u001b[0m\n\u001b[0;32m     10\u001b[0m     )\n\u001b[0;32m     11\u001b[0m \u001b[1;33m\u001b[0m\u001b[0m\n\u001b[1;32m---> 12\u001b[1;33m     \u001b[0mgrid_rf_class\u001b[0m\u001b[1;33m.\u001b[0m\u001b[0mfit\u001b[0m\u001b[1;33m(\u001b[0m\u001b[0mX_train\u001b[0m\u001b[1;33m,\u001b[0m \u001b[0my_train\u001b[0m\u001b[1;33m)\u001b[0m\u001b[1;33m\u001b[0m\u001b[1;33m\u001b[0m\u001b[0m\n\u001b[0m\u001b[0;32m     13\u001b[0m \u001b[1;33m\u001b[0m\u001b[0m\n\u001b[0;32m     14\u001b[0m     \u001b[0mprint\u001b[0m\u001b[1;33m(\u001b[0m\u001b[1;34m'yeboi1'\u001b[0m\u001b[1;33m)\u001b[0m\u001b[1;33m\u001b[0m\u001b[1;33m\u001b[0m\u001b[0m\n",
      "\u001b[1;32m~\\anaconda3\\lib\\site-packages\\sklearn\\utils\\validation.py\u001b[0m in \u001b[0;36minner_f\u001b[1;34m(*args, **kwargs)\u001b[0m\n\u001b[0;32m     71\u001b[0m                           FutureWarning)\n\u001b[0;32m     72\u001b[0m         \u001b[0mkwargs\u001b[0m\u001b[1;33m.\u001b[0m\u001b[0mupdate\u001b[0m\u001b[1;33m(\u001b[0m\u001b[1;33m{\u001b[0m\u001b[0mk\u001b[0m\u001b[1;33m:\u001b[0m \u001b[0marg\u001b[0m \u001b[1;32mfor\u001b[0m \u001b[0mk\u001b[0m\u001b[1;33m,\u001b[0m \u001b[0marg\u001b[0m \u001b[1;32min\u001b[0m \u001b[0mzip\u001b[0m\u001b[1;33m(\u001b[0m\u001b[0msig\u001b[0m\u001b[1;33m.\u001b[0m\u001b[0mparameters\u001b[0m\u001b[1;33m,\u001b[0m \u001b[0margs\u001b[0m\u001b[1;33m)\u001b[0m\u001b[1;33m}\u001b[0m\u001b[1;33m)\u001b[0m\u001b[1;33m\u001b[0m\u001b[1;33m\u001b[0m\u001b[0m\n\u001b[1;32m---> 73\u001b[1;33m         \u001b[1;32mreturn\u001b[0m \u001b[0mf\u001b[0m\u001b[1;33m(\u001b[0m\u001b[1;33m**\u001b[0m\u001b[0mkwargs\u001b[0m\u001b[1;33m)\u001b[0m\u001b[1;33m\u001b[0m\u001b[1;33m\u001b[0m\u001b[0m\n\u001b[0m\u001b[0;32m     74\u001b[0m     \u001b[1;32mreturn\u001b[0m \u001b[0minner_f\u001b[0m\u001b[1;33m\u001b[0m\u001b[1;33m\u001b[0m\u001b[0m\n\u001b[0;32m     75\u001b[0m \u001b[1;33m\u001b[0m\u001b[0m\n",
      "\u001b[1;32m~\\anaconda3\\lib\\site-packages\\sklearn\\model_selection\\_search.py\u001b[0m in \u001b[0;36mfit\u001b[1;34m(self, X, y, groups, **fit_params)\u001b[0m\n\u001b[0;32m    734\u001b[0m                 \u001b[1;32mreturn\u001b[0m \u001b[0mresults\u001b[0m\u001b[1;33m\u001b[0m\u001b[1;33m\u001b[0m\u001b[0m\n\u001b[0;32m    735\u001b[0m \u001b[1;33m\u001b[0m\u001b[0m\n\u001b[1;32m--> 736\u001b[1;33m             \u001b[0mself\u001b[0m\u001b[1;33m.\u001b[0m\u001b[0m_run_search\u001b[0m\u001b[1;33m(\u001b[0m\u001b[0mevaluate_candidates\u001b[0m\u001b[1;33m)\u001b[0m\u001b[1;33m\u001b[0m\u001b[1;33m\u001b[0m\u001b[0m\n\u001b[0m\u001b[0;32m    737\u001b[0m \u001b[1;33m\u001b[0m\u001b[0m\n\u001b[0;32m    738\u001b[0m         \u001b[1;31m# For multi-metric evaluation, store the best_index_, best_params_ and\u001b[0m\u001b[1;33m\u001b[0m\u001b[1;33m\u001b[0m\u001b[1;33m\u001b[0m\u001b[0m\n",
      "\u001b[1;32m~\\anaconda3\\lib\\site-packages\\sklearn\\model_selection\\_search.py\u001b[0m in \u001b[0;36m_run_search\u001b[1;34m(self, evaluate_candidates)\u001b[0m\n\u001b[0;32m   1186\u001b[0m     \u001b[1;32mdef\u001b[0m \u001b[0m_run_search\u001b[0m\u001b[1;33m(\u001b[0m\u001b[0mself\u001b[0m\u001b[1;33m,\u001b[0m \u001b[0mevaluate_candidates\u001b[0m\u001b[1;33m)\u001b[0m\u001b[1;33m:\u001b[0m\u001b[1;33m\u001b[0m\u001b[1;33m\u001b[0m\u001b[0m\n\u001b[0;32m   1187\u001b[0m         \u001b[1;34m\"\"\"Search all candidates in param_grid\"\"\"\u001b[0m\u001b[1;33m\u001b[0m\u001b[1;33m\u001b[0m\u001b[0m\n\u001b[1;32m-> 1188\u001b[1;33m         \u001b[0mevaluate_candidates\u001b[0m\u001b[1;33m(\u001b[0m\u001b[0mParameterGrid\u001b[0m\u001b[1;33m(\u001b[0m\u001b[0mself\u001b[0m\u001b[1;33m.\u001b[0m\u001b[0mparam_grid\u001b[0m\u001b[1;33m)\u001b[0m\u001b[1;33m)\u001b[0m\u001b[1;33m\u001b[0m\u001b[1;33m\u001b[0m\u001b[0m\n\u001b[0m\u001b[0;32m   1189\u001b[0m \u001b[1;33m\u001b[0m\u001b[0m\n\u001b[0;32m   1190\u001b[0m \u001b[1;33m\u001b[0m\u001b[0m\n",
      "\u001b[1;32m~\\anaconda3\\lib\\site-packages\\sklearn\\model_selection\\_search.py\u001b[0m in \u001b[0;36mevaluate_candidates\u001b[1;34m(candidate_params)\u001b[0m\n\u001b[0;32m    713\u001b[0m                                \u001b[1;32mfor\u001b[0m \u001b[0mparameters\u001b[0m\u001b[1;33m,\u001b[0m \u001b[1;33m(\u001b[0m\u001b[0mtrain\u001b[0m\u001b[1;33m,\u001b[0m \u001b[0mtest\u001b[0m\u001b[1;33m)\u001b[0m\u001b[1;33m\u001b[0m\u001b[1;33m\u001b[0m\u001b[0m\n\u001b[0;32m    714\u001b[0m                                in product(candidate_params,\n\u001b[1;32m--> 715\u001b[1;33m                                           cv.split(X, y, groups)))\n\u001b[0m\u001b[0;32m    716\u001b[0m \u001b[1;33m\u001b[0m\u001b[0m\n\u001b[0;32m    717\u001b[0m                 \u001b[1;32mif\u001b[0m \u001b[0mlen\u001b[0m\u001b[1;33m(\u001b[0m\u001b[0mout\u001b[0m\u001b[1;33m)\u001b[0m \u001b[1;33m<\u001b[0m \u001b[1;36m1\u001b[0m\u001b[1;33m:\u001b[0m\u001b[1;33m\u001b[0m\u001b[1;33m\u001b[0m\u001b[0m\n",
      "\u001b[1;32m~\\anaconda3\\lib\\site-packages\\joblib\\parallel.py\u001b[0m in \u001b[0;36m__call__\u001b[1;34m(self, iterable)\u001b[0m\n\u001b[0;32m   1040\u001b[0m \u001b[1;33m\u001b[0m\u001b[0m\n\u001b[0;32m   1041\u001b[0m             \u001b[1;32mwith\u001b[0m \u001b[0mself\u001b[0m\u001b[1;33m.\u001b[0m\u001b[0m_backend\u001b[0m\u001b[1;33m.\u001b[0m\u001b[0mretrieval_context\u001b[0m\u001b[1;33m(\u001b[0m\u001b[1;33m)\u001b[0m\u001b[1;33m:\u001b[0m\u001b[1;33m\u001b[0m\u001b[1;33m\u001b[0m\u001b[0m\n\u001b[1;32m-> 1042\u001b[1;33m                 \u001b[0mself\u001b[0m\u001b[1;33m.\u001b[0m\u001b[0mretrieve\u001b[0m\u001b[1;33m(\u001b[0m\u001b[1;33m)\u001b[0m\u001b[1;33m\u001b[0m\u001b[1;33m\u001b[0m\u001b[0m\n\u001b[0m\u001b[0;32m   1043\u001b[0m             \u001b[1;31m# Make sure that we get a last message telling us we are done\u001b[0m\u001b[1;33m\u001b[0m\u001b[1;33m\u001b[0m\u001b[1;33m\u001b[0m\u001b[0m\n\u001b[0;32m   1044\u001b[0m             \u001b[0melapsed_time\u001b[0m \u001b[1;33m=\u001b[0m \u001b[0mtime\u001b[0m\u001b[1;33m.\u001b[0m\u001b[0mtime\u001b[0m\u001b[1;33m(\u001b[0m\u001b[1;33m)\u001b[0m \u001b[1;33m-\u001b[0m \u001b[0mself\u001b[0m\u001b[1;33m.\u001b[0m\u001b[0m_start_time\u001b[0m\u001b[1;33m\u001b[0m\u001b[1;33m\u001b[0m\u001b[0m\n",
      "\u001b[1;32m~\\anaconda3\\lib\\site-packages\\joblib\\parallel.py\u001b[0m in \u001b[0;36mretrieve\u001b[1;34m(self)\u001b[0m\n\u001b[0;32m    919\u001b[0m             \u001b[1;32mtry\u001b[0m\u001b[1;33m:\u001b[0m\u001b[1;33m\u001b[0m\u001b[1;33m\u001b[0m\u001b[0m\n\u001b[0;32m    920\u001b[0m                 \u001b[1;32mif\u001b[0m \u001b[0mgetattr\u001b[0m\u001b[1;33m(\u001b[0m\u001b[0mself\u001b[0m\u001b[1;33m.\u001b[0m\u001b[0m_backend\u001b[0m\u001b[1;33m,\u001b[0m \u001b[1;34m'supports_timeout'\u001b[0m\u001b[1;33m,\u001b[0m \u001b[1;32mFalse\u001b[0m\u001b[1;33m)\u001b[0m\u001b[1;33m:\u001b[0m\u001b[1;33m\u001b[0m\u001b[1;33m\u001b[0m\u001b[0m\n\u001b[1;32m--> 921\u001b[1;33m                     \u001b[0mself\u001b[0m\u001b[1;33m.\u001b[0m\u001b[0m_output\u001b[0m\u001b[1;33m.\u001b[0m\u001b[0mextend\u001b[0m\u001b[1;33m(\u001b[0m\u001b[0mjob\u001b[0m\u001b[1;33m.\u001b[0m\u001b[0mget\u001b[0m\u001b[1;33m(\u001b[0m\u001b[0mtimeout\u001b[0m\u001b[1;33m=\u001b[0m\u001b[0mself\u001b[0m\u001b[1;33m.\u001b[0m\u001b[0mtimeout\u001b[0m\u001b[1;33m)\u001b[0m\u001b[1;33m)\u001b[0m\u001b[1;33m\u001b[0m\u001b[1;33m\u001b[0m\u001b[0m\n\u001b[0m\u001b[0;32m    922\u001b[0m                 \u001b[1;32melse\u001b[0m\u001b[1;33m:\u001b[0m\u001b[1;33m\u001b[0m\u001b[1;33m\u001b[0m\u001b[0m\n\u001b[0;32m    923\u001b[0m                     \u001b[0mself\u001b[0m\u001b[1;33m.\u001b[0m\u001b[0m_output\u001b[0m\u001b[1;33m.\u001b[0m\u001b[0mextend\u001b[0m\u001b[1;33m(\u001b[0m\u001b[0mjob\u001b[0m\u001b[1;33m.\u001b[0m\u001b[0mget\u001b[0m\u001b[1;33m(\u001b[0m\u001b[1;33m)\u001b[0m\u001b[1;33m)\u001b[0m\u001b[1;33m\u001b[0m\u001b[1;33m\u001b[0m\u001b[0m\n",
      "\u001b[1;32m~\\anaconda3\\lib\\site-packages\\joblib\\_parallel_backends.py\u001b[0m in \u001b[0;36mwrap_future_result\u001b[1;34m(future, timeout)\u001b[0m\n\u001b[0;32m    540\u001b[0m         AsyncResults.get from multiprocessing.\"\"\"\n\u001b[0;32m    541\u001b[0m         \u001b[1;32mtry\u001b[0m\u001b[1;33m:\u001b[0m\u001b[1;33m\u001b[0m\u001b[1;33m\u001b[0m\u001b[0m\n\u001b[1;32m--> 542\u001b[1;33m             \u001b[1;32mreturn\u001b[0m \u001b[0mfuture\u001b[0m\u001b[1;33m.\u001b[0m\u001b[0mresult\u001b[0m\u001b[1;33m(\u001b[0m\u001b[0mtimeout\u001b[0m\u001b[1;33m=\u001b[0m\u001b[0mtimeout\u001b[0m\u001b[1;33m)\u001b[0m\u001b[1;33m\u001b[0m\u001b[1;33m\u001b[0m\u001b[0m\n\u001b[0m\u001b[0;32m    543\u001b[0m         \u001b[1;32mexcept\u001b[0m \u001b[0mCfTimeoutError\u001b[0m \u001b[1;32mas\u001b[0m \u001b[0me\u001b[0m\u001b[1;33m:\u001b[0m\u001b[1;33m\u001b[0m\u001b[1;33m\u001b[0m\u001b[0m\n\u001b[0;32m    544\u001b[0m             \u001b[1;32mraise\u001b[0m \u001b[0mTimeoutError\u001b[0m \u001b[1;32mfrom\u001b[0m \u001b[0me\u001b[0m\u001b[1;33m\u001b[0m\u001b[1;33m\u001b[0m\u001b[0m\n",
      "\u001b[1;32m~\\anaconda3\\lib\\concurrent\\futures\\_base.py\u001b[0m in \u001b[0;36mresult\u001b[1;34m(self, timeout)\u001b[0m\n\u001b[0;32m    428\u001b[0m                 \u001b[1;32mreturn\u001b[0m \u001b[0mself\u001b[0m\u001b[1;33m.\u001b[0m\u001b[0m__get_result\u001b[0m\u001b[1;33m(\u001b[0m\u001b[1;33m)\u001b[0m\u001b[1;33m\u001b[0m\u001b[1;33m\u001b[0m\u001b[0m\n\u001b[0;32m    429\u001b[0m \u001b[1;33m\u001b[0m\u001b[0m\n\u001b[1;32m--> 430\u001b[1;33m             \u001b[0mself\u001b[0m\u001b[1;33m.\u001b[0m\u001b[0m_condition\u001b[0m\u001b[1;33m.\u001b[0m\u001b[0mwait\u001b[0m\u001b[1;33m(\u001b[0m\u001b[0mtimeout\u001b[0m\u001b[1;33m)\u001b[0m\u001b[1;33m\u001b[0m\u001b[1;33m\u001b[0m\u001b[0m\n\u001b[0m\u001b[0;32m    431\u001b[0m \u001b[1;33m\u001b[0m\u001b[0m\n\u001b[0;32m    432\u001b[0m             \u001b[1;32mif\u001b[0m \u001b[0mself\u001b[0m\u001b[1;33m.\u001b[0m\u001b[0m_state\u001b[0m \u001b[1;32min\u001b[0m \u001b[1;33m[\u001b[0m\u001b[0mCANCELLED\u001b[0m\u001b[1;33m,\u001b[0m \u001b[0mCANCELLED_AND_NOTIFIED\u001b[0m\u001b[1;33m]\u001b[0m\u001b[1;33m:\u001b[0m\u001b[1;33m\u001b[0m\u001b[1;33m\u001b[0m\u001b[0m\n",
      "\u001b[1;32m~\\anaconda3\\lib\\threading.py\u001b[0m in \u001b[0;36mwait\u001b[1;34m(self, timeout)\u001b[0m\n\u001b[0;32m    294\u001b[0m         \u001b[1;32mtry\u001b[0m\u001b[1;33m:\u001b[0m    \u001b[1;31m# restore state no matter what (e.g., KeyboardInterrupt)\u001b[0m\u001b[1;33m\u001b[0m\u001b[1;33m\u001b[0m\u001b[0m\n\u001b[0;32m    295\u001b[0m             \u001b[1;32mif\u001b[0m \u001b[0mtimeout\u001b[0m \u001b[1;32mis\u001b[0m \u001b[1;32mNone\u001b[0m\u001b[1;33m:\u001b[0m\u001b[1;33m\u001b[0m\u001b[1;33m\u001b[0m\u001b[0m\n\u001b[1;32m--> 296\u001b[1;33m                 \u001b[0mwaiter\u001b[0m\u001b[1;33m.\u001b[0m\u001b[0macquire\u001b[0m\u001b[1;33m(\u001b[0m\u001b[1;33m)\u001b[0m\u001b[1;33m\u001b[0m\u001b[1;33m\u001b[0m\u001b[0m\n\u001b[0m\u001b[0;32m    297\u001b[0m                 \u001b[0mgotit\u001b[0m \u001b[1;33m=\u001b[0m \u001b[1;32mTrue\u001b[0m\u001b[1;33m\u001b[0m\u001b[1;33m\u001b[0m\u001b[0m\n\u001b[0;32m    298\u001b[0m             \u001b[1;32melse\u001b[0m\u001b[1;33m:\u001b[0m\u001b[1;33m\u001b[0m\u001b[1;33m\u001b[0m\u001b[0m\n",
      "\u001b[1;31mKeyboardInterrupt\u001b[0m: "
     ]
    }
   ],
   "source": [
    "estimator_names = [\"Logistic Regression\", \"Decision Tree\", \"Adaboost\", \"Random Forest\", \"Gradient Boost\"]\n",
    "estimators = [LogisticRegression(), DecisionTreeClassifier(), AdaBoostClassifier(), RandomForestClassifier(), GradientBoostingClassifier()]\n",
    "\n",
    "param_grids = [{}, \n",
    "               {\n",
    "                   'max_leaf_nodes': [2, 5, 10, 20, 50]\n",
    "               },\n",
    "               {\n",
    "                   'n_estimators': [10, 50, 100],\n",
    "               },\n",
    "               {},\n",
    "               {\n",
    "                   'learning_rate': [0.01, 0.05, 0.1, 0.2],\n",
    "                   'n_estimators': [40, 55, 70, 100],\n",
    "                   'max_depth': [2, 4, 7, 10]\n",
    "               }\n",
    "              ]\n",
    "\n",
    "for i in range(0, len(estimators)):\n",
    "    print('--------------------------')\n",
    "    best_score, best_params, best_estimator = train_one_model(estimators[i], param_grids[i])\n",
    "#     best_score = best_estimator.fit(X_train, y_train)\n",
    "    y_pred_train = best_estimator.predict(X_train)\n",
    "    best_score = roc_auc_score(y_train, y_pred_train)\n",
    "    \n",
    "    print(estimator_names[i])\n",
    "    print(best_score)\n",
    "    print(best_params)\n",
    "    \n",
    "    y_pred = best_estimator.predict(X_test)\n",
    "\n",
    "    print(roc_auc_score(y_test, y_pred))\n",
    "    print('--------------------------')\n",
    "    \n",
    "\n",
    "\n",
    "# print(best_score)\n",
    "# print(best_params)\n",
    "\n",
    "# y_pred = best_estimator.predict(X_test)\n",
    "\n",
    "# roc_auc_score(y_test, y_pred)"
   ]
  },
  {
   "cell_type": "code",
   "execution_count": 482,
   "metadata": {},
   "outputs": [
    {
     "name": "stdout",
     "output_type": "stream",
     "text": [
      "Fitting 10 folds for each of 768 candidates, totalling 7680 fits\n"
     ]
    },
    {
     "name": "stderr",
     "output_type": "stream",
     "text": [
      "[Parallel(n_jobs=-1)]: Using backend LokyBackend with 12 concurrent workers.\n",
      "[Parallel(n_jobs=-1)]: Done  17 tasks      | elapsed:    0.1s\n",
      "[Parallel(n_jobs=-1)]: Done 432 tasks      | elapsed:    2.0s\n",
      "[Parallel(n_jobs=-1)]: Done 1244 tasks      | elapsed:    5.5s\n",
      "[Parallel(n_jobs=-1)]: Done 2376 tasks      | elapsed:   10.6s\n",
      "[Parallel(n_jobs=-1)]: Done 3836 tasks      | elapsed:   17.0s\n",
      "[Parallel(n_jobs=-1)]: Done 5616 tasks      | elapsed:   25.5s\n",
      "[Parallel(n_jobs=-1)]: Done 7657 out of 7680 | elapsed:   35.2s remaining:    0.0s\n",
      "[Parallel(n_jobs=-1)]: Done 7680 out of 7680 | elapsed:   35.3s finished\n"
     ]
    },
    {
     "data": {
      "text/plain": [
       "GridSearchCV(cv=StratifiedKFold(n_splits=10, random_state=None, shuffle=False),\n",
       "             estimator=GradientBoostingClassifier(), n_jobs=-1,\n",
       "             param_grid={'learning_rate': [0.01, 0.05, 0.1, 0.2],\n",
       "                         'max_depth': [5, 20, 50, 100, 500, 1000],\n",
       "                         'max_features': ['sqrt'],\n",
       "                         'min_samples_leaf': array([0.1       , 0.23333333, 0.36666667, 0.5       ]),\n",
       "                         'min_samples_split': array([0.1       , 0.23333333, 0.36666667, 0.5       ]),\n",
       "                         'n_estimators': [10], 'subsample': [0.3, 0.5]},\n",
       "             scoring='roc_auc', verbose=2)"
      ]
     },
     "execution_count": 482,
     "metadata": {},
     "output_type": "execute_result"
    }
   ],
   "source": [
    "# # lg = RandomForestClassifier(n_estimators = 200, max_features='sqrt', max_depth = 50, min_samples_split=5, min_samples_leaf = 2, bootstrap = True)\n",
    "# lg = GradientBoostingClassifier()\n",
    "# lg.fit(X_train, y_train)\n",
    "# # print(lg.get_n_leaves())\n",
    "# y_pred_train = lg.predict(X_train)\n",
    "# print(roc_auc_score(y_train, y_pred_train))\n",
    "# y_pred = lg.predict(X_test)\n",
    "# roc_auc_score(y_test, y_pred)\n",
    "\n",
    "parameters = {\n",
    "    \"learning_rate\": [0.01, 0.05, 0.1, 0.2],\n",
    "    \"min_samples_split\": np.linspace(0.1, 0.5, 4),\n",
    "    \"min_samples_leaf\": np.linspace(0.1, 0.5, 4),\n",
    "    \"max_depth\":[5,20,50,100,500,1000],\n",
    "    \"max_features\":[\"sqrt\"],\n",
    "    \"subsample\":[0.3, 0.5],\n",
    "    \"n_estimators\":[10]\n",
    "    }\n",
    "\n",
    "# param_grid = {'max_features': ['auto', 'sqrt', 'log2'],\n",
    "#               'max_depth' : [5, 6, 7, 8, 9],\n",
    "#               'criterion' :['gini', 'entropy']\n",
    "#              }\n",
    "# clf = GridSearchCV(DecisionTreeClassifier(), param_grid = param_grid, cv = StratifiedKFold(10), n_jobs = -1, verbose = 2, scoring = 'roc_auc')\n",
    "\n",
    "clf = GridSearchCV(GradientBoostingClassifier(), parameters, cv=StratifiedKFold(10), n_jobs=-1, verbose=2, scoring = 'roc_auc')\n",
    "\n",
    "clf.fit(X_train, y_train)"
   ]
  },
  {
   "cell_type": "code",
   "execution_count": 484,
   "metadata": {},
   "outputs": [],
   "source": [
    "# clf.best_score_\n",
    "# y_pred = clf.predict(X_test)\n",
    "# roc_auc_score(y_test, y_pred)\n",
    "# clf.cv_results_['mean_test_score']"
   ]
  },
  {
   "cell_type": "code",
   "execution_count": 102,
   "metadata": {},
   "outputs": [
    {
     "name": "stdout",
     "output_type": "stream",
     "text": [
      "0.5115211423956965\n"
     ]
    },
    {
     "data": {
      "text/plain": [
       "0.5024303230424643"
      ]
     },
     "execution_count": 102,
     "metadata": {},
     "output_type": "execute_result"
    }
   ],
   "source": [
    "dt = DecisionTreeClassifier(max_depth = 5)\n",
    "\n",
    "dt.fit(X_train, y_train)\n",
    "y_pred_train = dt.predict(X_train)\n",
    "print(roc_auc_score(y_train, y_pred_train))\n",
    "\n",
    "y_pred = dt.predict(X_test)\n",
    "\n",
    "roc_auc_score(y_test, y_pred)"
   ]
  },
  {
   "cell_type": "code",
   "execution_count": 149,
   "metadata": {},
   "outputs": [
    {
     "name": "stdout",
     "output_type": "stream",
     "text": [
      "{'max_depth': 1}\n",
      "(array([0], dtype=int64), array([10000], dtype=int64))\n"
     ]
    }
   ],
   "source": [
    "# max_depths = [1, 2, 3, 4, 5, 6, 7, 8, 9, 10, 15, 20, 30, 40, 70, 100, 200, 300, 400, 700, 800, 1000, 2000, 3000]\n",
    "# scores = []\n",
    "\n",
    "# for max_depth in max_depths:\n",
    "#     scores_local = []\n",
    "#     for i in range(5):\n",
    "#         # 10-fold CV\n",
    "#         kf = StratifiedKFold(n_splits = 10, shuffle = True)\n",
    "\n",
    "#     #     indices = list(kf.split(X_train, y_train))[0][0]\n",
    "#     #     print(np.unique(y_train[indices], return_counts=True))\n",
    "#     #     break\n",
    "\n",
    "#         model = DecisionTreeClassifier(max_depth = max_depth)\n",
    "#         model.fit(X_train, y_train)\n",
    "\n",
    "#         y_pred = model.predict(X_train)\n",
    "#         print(roc_auc_score(y_train, y_pred))\n",
    "#         print(np.unique(y_pred, return_counts = True))\n",
    "\n",
    "#         cv_scores = cross_val_score(model, X_train, y_train, cv=kf, scoring='average_precision')\n",
    "        \n",
    "#         new_model = DecisionTreeClassifier(max_depth = max_depth)\n",
    "#         new_model.fit(X_train, y_train)\n",
    "#         print(np.unique(new_model.predict(X_train), return_counts = True))\n",
    "# #         print(cv_scores)\n",
    "\n",
    "# #         scores_local.append(sum(cv_scores) / len(cv_scores))\n",
    "#         scores_local.append(np.mean(cv_scores))\n",
    "#     scores.append(np.mean(scores_local))\n",
    "    \n",
    "# plt.plot(max_depths, scores)\n",
    "# plt.show()\n",
    "\n",
    "# max_value = max(scores)\n",
    "# index = scores.index(max_value)\n",
    "\n",
    "# model = DecisionTreeClassifier(max_depth = max_depths[index])\n",
    "# model.fit(X_train, y_train)\n",
    "\n",
    "# y_pred = model.predict(X_test)\n",
    "# print(np.unique(y_pred, return_counts = True))\n",
    "# roc_auc_score(y_test, y_pred)\n",
    "\n",
    "# grid_rf_class = GridSearchCV(\n",
    "#     estimator = DecisionTreeClassifier(),\n",
    "#     param_grid = {'max_depth': [1, 2, 3, 4, 5, 6, 7, 8, 9, 10]},\n",
    "#     scoring = 'roc_auc',\n",
    "#     n_jobs = 3,\n",
    "#     cv = 10,\n",
    "#     refit = True,\n",
    "#     return_train_score = True\n",
    "# )\n",
    "\n",
    "# grid_rf_class.fit(X_train, y_train)\n",
    "\n",
    "# print(grid_rf_class.best_params_)\n",
    "\n",
    "# y_pred = grid_rf_class.predict(X_train)\n",
    "\n",
    "# print(np.unique(y_pred, return_counts = True))\n",
    "\n",
    "# # roc_auc_score(y_test, y_pred)"
   ]
  },
  {
   "cell_type": "code",
   "execution_count": 204,
   "metadata": {},
   "outputs": [
    {
     "name": "stdout",
     "output_type": "stream",
     "text": [
      "(array([0., 1.]), array([1326, 1326], dtype=int64))\n",
      "0.2315233785822021\n",
      "(array([0., 1.]), array([1896,  756], dtype=int64))\n",
      "(array([0., 1.]), array([5204, 4796], dtype=int64))\n"
     ]
    },
    {
     "name": "stderr",
     "output_type": "stream",
     "text": [
      "C:\\Users\\berna\\anaconda3\\lib\\site-packages\\sklearn\\utils\\validation.py:73: DataConversionWarning: A column-vector y was passed when a 1d array was expected. Please change the shape of y to (n_samples, ), for example using ravel().\n",
      "  return f(**kwargs)\n"
     ]
    },
    {
     "data": {
      "text/plain": [
       "0.23208787059285346"
      ]
     },
     "execution_count": 204,
     "metadata": {},
     "output_type": "execute_result"
    }
   ],
   "source": [
    "# from sklearn.utils import resample\n",
    "\n",
    "# df_majority = X_train[y_train == 0]\n",
    "# df_minority = X_train[y_train == 1]\n",
    "\n",
    "# df_majority_downsampled = resample(df_majority, \n",
    "#                                  replace=True,     # sample with replacement\n",
    "#                                  n_samples=len(df_minority),    # to match majority class\n",
    "#                                  ) # reproducible results\n",
    "\n",
    "# new_X_train = np.concatenate([df_majority_downsampled, df_minority])\n",
    "# new_y_train = np.concatenate([np.zeros_like(df_majority_downsampled), np.ones_like(df_minority)])\n",
    "\n",
    "# # lg = DecisionTreeClassifier(min_samples_split = 1000)\n",
    "# lg = GradientBoostingClassifier(learning_rate = 10)\n",
    "# lg.fit(new_X_train, new_y_train)\n",
    "\n",
    "# print(np.unique(new_y_train, return_counts = True))\n",
    "\n",
    "# y_pred = lg.predict(new_X_train)\n",
    "# print(roc_auc_score(new_y_train, y_pred))\n",
    "# print(np.unique(y_pred, return_counts = True))\n",
    "\n",
    "# y_pred_test = lg.predict(X_test)\n",
    "\n",
    "# print(np.unique(y_pred_test, return_counts = True))\n",
    "# roc_auc_score(y_test, y_pred_test)"
   ]
  },
  {
   "cell_type": "code",
   "execution_count": 202,
   "metadata": {},
   "outputs": [
    {
     "ename": "NameError",
     "evalue": "name 'Python' is not defined",
     "output_type": "error",
     "traceback": [
      "\u001b[1;31m---------------------------------------------------------------------------\u001b[0m",
      "\u001b[1;31mNameError\u001b[0m                                 Traceback (most recent call last)",
      "\u001b[1;32m<ipython-input-202-ecfd2f8b233b>\u001b[0m in \u001b[0;36m<module>\u001b[1;34m\u001b[0m\n\u001b[1;32m----> 1\u001b[1;33m \u001b[0mPython\u001b[0m\u001b[1;33m\u001b[0m\u001b[1;33m\u001b[0m\u001b[0m\n\u001b[0m\u001b[0;32m      2\u001b[0m \u001b[1;31m# Separate majority and minority classes\u001b[0m\u001b[1;33m\u001b[0m\u001b[1;33m\u001b[0m\u001b[1;33m\u001b[0m\u001b[0m\n\u001b[0;32m      3\u001b[0m \u001b[0mdf_majority\u001b[0m \u001b[1;33m=\u001b[0m \u001b[0mdf\u001b[0m\u001b[1;33m[\u001b[0m\u001b[0mdf\u001b[0m\u001b[1;33m.\u001b[0m\u001b[0mbalance\u001b[0m\u001b[1;33m==\u001b[0m\u001b[1;36m0\u001b[0m\u001b[1;33m]\u001b[0m\u001b[1;33m\u001b[0m\u001b[1;33m\u001b[0m\u001b[0m\n\u001b[0;32m      4\u001b[0m \u001b[0mdf_minority\u001b[0m \u001b[1;33m=\u001b[0m \u001b[0mdf\u001b[0m\u001b[1;33m[\u001b[0m\u001b[0mdf\u001b[0m\u001b[1;33m.\u001b[0m\u001b[0mbalance\u001b[0m\u001b[1;33m==\u001b[0m\u001b[1;36m1\u001b[0m\u001b[1;33m]\u001b[0m\u001b[1;33m\u001b[0m\u001b[1;33m\u001b[0m\u001b[0m\n\u001b[0;32m      5\u001b[0m \u001b[1;33m\u001b[0m\u001b[0m\n",
      "\u001b[1;31mNameError\u001b[0m: name 'Python' is not defined"
     ]
    }
   ],
   "source": [
    "# Python\n",
    "# # Separate majority and minority classes\n",
    "# df_majority = df[df.balance==0]\n",
    "# df_minority = df[df.balance==1]\n",
    " \n",
    "# # Upsample minority class\n",
    "# df_minority_upsampled = resample(df_minority, \n",
    "#                                  replace=True,     # sample with replacement\n",
    "#                                  n_samples=576,    # to match majority class\n",
    "#                                  random_state=123) # reproducible results\n",
    " \n",
    "# # Combine majority class with upsampled minority class\n",
    "# df_upsampled = pd.concat([df_majority, df_minority_upsampled])\n",
    " \n",
    "# # Display new class counts\n",
    "# df_upsampled.balance.value_counts()\n",
    "# # 1    576\n",
    "# # 0    576\n",
    "# # Name: balance, dtype: int64"
   ]
  },
  {
   "cell_type": "code",
   "execution_count": null,
   "metadata": {},
   "outputs": [],
   "source": []
  }
 ],
 "metadata": {
  "kernelspec": {
   "display_name": "Python 3",
   "language": "python",
   "name": "python3"
  },
  "language_info": {
   "codemirror_mode": {
    "name": "ipython",
    "version": 3
   },
   "file_extension": ".py",
   "mimetype": "text/x-python",
   "name": "python",
   "nbconvert_exporter": "python",
   "pygments_lexer": "ipython3",
   "version": "3.7.6"
  }
 },
 "nbformat": 4,
 "nbformat_minor": 4
}
