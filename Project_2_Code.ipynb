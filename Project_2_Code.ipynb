{
 "cells": [
  {
   "cell_type": "code",
   "execution_count": 452,
   "metadata": {},
   "outputs": [],
   "source": [
    "import pandas as pd\n",
    "import numpy as np\n",
    "from sklearn.preprocessing import OneHotEncoder\n",
    "from sklearn.linear_model import LogisticRegression\n",
    "from sklearn.model_selection import train_test_split\n",
    "from sklearn.model_selection import GridSearchCV\n",
    "from sklearn.tree import DecisionTreeClassifier\n",
    "from sklearn.ensemble import AdaBoostClassifier\n",
    "from sklearn.ensemble import GradientBoostingClassifier\n",
    "from sklearn.ensemble import RandomForestClassifier\n",
    "from sklearn import tree\n",
    "import matplotlib.pyplot as plt\n",
    "from sklearn.metrics import roc_auc_score\n",
    "from sklearn.model_selection import train_test_split\n",
    "# import random\n",
    "from sklearn.model_selection import StratifiedKFold"
   ]
  },
  {
   "cell_type": "code",
   "execution_count": 342,
   "metadata": {},
   "outputs": [],
   "source": [
    "train_data = pd.read_csv('Project2_Train.csv')\n",
    "test_data = pd.read_csv('Project2_Test.csv')\n",
    "test_data = test_data.rename({'Damage': 'VehicleDamage'}, axis=1)\n",
    "\n",
    "# combined = pd.concat([train_data, test_data], ignore_index = True)\n",
    "\n",
    "# set_train_indices = set(np.random.choice(range(0, 20000), size=10000, replace=False, p=None))\n",
    "# train_indices = [i in set_train_indices for i in range(20000)]\n",
    "# test_indices = [i not in set_train_indices for i in range(20000)]\n",
    "\n",
    "# train_data = combined[train_indices].reset_index()\n",
    "# test_data = combined[test_indices].reset_index()"
   ]
  },
  {
   "cell_type": "code",
   "execution_count": 343,
   "metadata": {},
   "outputs": [],
   "source": [
    "def preprocess(data, oneHotEncodedCategories, drop_mystery):\n",
    "    return_data = data.copy()\n",
    "    for cat in oneHotEncodedCategories:\n",
    "        encoder = OneHotEncoder()\n",
    "        encoder_df = pd.DataFrame(encoder.fit_transform(return_data[[cat]]).toarray())\n",
    "        encoder_df.columns = [cat + \" \" + name.split('_', 1)[1] for name in encoder.get_feature_names()]\n",
    "        return_data = return_data.join(encoder_df)\n",
    "        return_data.drop(cat, axis = 1, inplace = True)\n",
    "    if drop_mystery:\n",
    "        return_data.drop('Mystery', axis = 1, inplace = True)\n",
    "    return return_data"
   ]
  },
  {
   "cell_type": "code",
   "execution_count": 485,
   "metadata": {},
   "outputs": [],
   "source": [
    "# X_train_before = train_data[['Gender', 'Age', 'Region_Code', 'Age.1', 'VehicleDamage', 'Premium', 'Vintage', 'Mystery']]\n",
    "# y_train_val = train_data['Response']\n",
    "# X_test_before = test_data[['Gender', 'Age', 'Region_Code', 'Age.1', 'VehicleDamage', 'Premium', 'Vintage', 'Mystery']]\n",
    "# y_test = test_data['Response']\n",
    "\n",
    "# X_train_val = preprocess(X_train_before, ['Gender', 'Region_Code', 'VehicleDamage', 'Age.1'], True)\n",
    "# X_test = preprocess(X_test_before, ['Gender', 'Region_Code', 'VehicleDamage', 'Age.1'], True)\n",
    "\n",
    "# X_train, X_val, y_train, y_val = train_test_split(X_train_val, y_train_val, test_size=0.1)\n",
    "\n",
    "X_train_before = train_data[['Gender', 'Age', 'Region_Code', 'Age.1', 'VehicleDamage', 'Premium', 'Vintage', 'Mystery']]\n",
    "y_train = train_data['Response']\n",
    "X_test_before = test_data[['Gender', 'Age', 'Region_Code', 'Age.1', 'VehicleDamage', 'Premium', 'Vintage', 'Mystery']]\n",
    "y_test = test_data['Response']\n",
    "\n",
    "# print(np.unique(X_train_before['Age.1']))\n",
    "\n",
    "X_train = preprocess(X_train_before, ['Gender', 'Region_Code', 'VehicleDamage', 'Age.1'], True)\n",
    "X_test = preprocess(X_test_before, ['Gender', 'Region_Code', 'VehicleDamage', 'Age.1'], True)\n",
    "\n",
    "# X_train = X_train[['Age', 'Premium', 'Vintage']]\n",
    "# X_test = X_test[['Age', 'Premium', 'Vintage']]\n",
    "# print(X_train)\n",
    "# print(y_train)"
   ]
  },
  {
   "cell_type": "code",
   "execution_count": 345,
   "metadata": {},
   "outputs": [],
   "source": [
    "# Logistic Regression, Classification Tree, Extra Tree, Bagging, Gradient Boosting\n",
    "# x = X_train['VehicleDamage Yes']\n",
    "# pair = [x * 10 + y for x, y in list(zip(x, y_train))]\n",
    "# np.unique(np.array(pair), return_counts = True)\n",
    "# print(len(list(zip(x, y_train))))\n",
    "# print(pair)\n",
    "\n",
    "# plt.hist(pair)"
   ]
  },
  {
   "cell_type": "code",
   "execution_count": 337,
   "metadata": {},
   "outputs": [],
   "source": [
    "def train_one_model(estimator, param_grid):\n",
    "    grid_rf_class = GridSearchCV(\n",
    "        estimator = estimator,\n",
    "        param_grid = param_grid,\n",
    "        scoring = 'roc_auc',\n",
    "        n_jobs = 3,\n",
    "        cv = 3,\n",
    "        refit = True,\n",
    "        return_train_score = True\n",
    "    )\n",
    "    \n",
    "    grid_rf_class.fit(X_train, y_train)\n",
    "#     print(grid_rf_class.cv_results_)\n",
    "    \n",
    "#     fig = plt.figure(figsize=(25,20))\n",
    "#     _ = tree.plot_tree(grid_rf_class.best_estimator_, \n",
    "#                        feature_names=X_train.columns,\n",
    "#                        filled=True)\n",
    "\n",
    "    return (grid_rf_class.best_score_, grid_rf_class.best_params_, grid_rf_class.best_estimator_)"
   ]
  },
  {
   "cell_type": "code",
   "execution_count": 352,
   "metadata": {},
   "outputs": [
    {
     "name": "stdout",
     "output_type": "stream",
     "text": [
      "--------------------------\n",
      "Gradient Boost\n",
      "0.5007541478129713\n",
      "{'learning_rate': 0.05, 'max_depth': 4, 'n_estimators': 70}\n",
      "0.5\n",
      "--------------------------\n"
     ]
    }
   ],
   "source": [
    "estimator_names = [\"Logistic Regression\", \"Decision Tree\", \"Adaboost\", \"Random Forest\", \"Gradient Boost\"]\n",
    "estimators = [LogisticRegression(), DecisionTreeClassifier(), AdaBoostClassifier(), RandomForestClassifier(), GradientBoostingClassifier()]\n",
    "\n",
    "param_grids = [{}, \n",
    "               {\n",
    "                   'max_leaf_nodes': [2, 5, 10, 20, 50]\n",
    "               },\n",
    "               {\n",
    "                   'n_estimators': [10, 50, 100],\n",
    "               },\n",
    "               {},\n",
    "               {\n",
    "                   'learning_rate': [0.01, 0.05, 0.1, 0.2],\n",
    "                   'n_estimators': [40, 55, 70, 100],\n",
    "                   'max_depth': [2, 4, 7, 10]\n",
    "               }\n",
    "              ]\n",
    "\n",
    "for i in range(4, len(estimators)):\n",
    "    print('--------------------------')\n",
    "    best_score, best_params, best_estimator = train_one_model(estimators[i], param_grids[i])\n",
    "#     best_score = best_estimator.fit(X_train, y_train)\n",
    "    y_pred_train = best_estimator.predict(X_train)\n",
    "    best_score = roc_auc_score(y_train, y_pred_train)\n",
    "    \n",
    "    print(estimator_names[i])\n",
    "    print(best_score)\n",
    "    print(best_params)\n",
    "    \n",
    "    y_pred = best_estimator.predict(X_test)\n",
    "\n",
    "    print(roc_auc_score(y_test, y_pred))\n",
    "    print('--------------------------')\n",
    "    \n",
    "\n",
    "\n",
    "# print(best_score)\n",
    "# print(best_params)\n",
    "\n",
    "# y_pred = best_estimator.predict(X_test)\n",
    "\n",
    "# roc_auc_score(y_test, y_pred)"
   ]
  },
  {
   "cell_type": "code",
   "execution_count": 482,
   "metadata": {},
   "outputs": [
    {
     "name": "stdout",
     "output_type": "stream",
     "text": [
      "Fitting 10 folds for each of 768 candidates, totalling 7680 fits\n"
     ]
    },
    {
     "name": "stderr",
     "output_type": "stream",
     "text": [
      "[Parallel(n_jobs=-1)]: Using backend LokyBackend with 12 concurrent workers.\n",
      "[Parallel(n_jobs=-1)]: Done  17 tasks      | elapsed:    0.1s\n",
      "[Parallel(n_jobs=-1)]: Done 432 tasks      | elapsed:    2.0s\n",
      "[Parallel(n_jobs=-1)]: Done 1244 tasks      | elapsed:    5.5s\n",
      "[Parallel(n_jobs=-1)]: Done 2376 tasks      | elapsed:   10.6s\n",
      "[Parallel(n_jobs=-1)]: Done 3836 tasks      | elapsed:   17.0s\n",
      "[Parallel(n_jobs=-1)]: Done 5616 tasks      | elapsed:   25.5s\n",
      "[Parallel(n_jobs=-1)]: Done 7657 out of 7680 | elapsed:   35.2s remaining:    0.0s\n",
      "[Parallel(n_jobs=-1)]: Done 7680 out of 7680 | elapsed:   35.3s finished\n"
     ]
    },
    {
     "data": {
      "text/plain": [
       "GridSearchCV(cv=StratifiedKFold(n_splits=10, random_state=None, shuffle=False),\n",
       "             estimator=GradientBoostingClassifier(), n_jobs=-1,\n",
       "             param_grid={'learning_rate': [0.01, 0.05, 0.1, 0.2],\n",
       "                         'max_depth': [5, 20, 50, 100, 500, 1000],\n",
       "                         'max_features': ['sqrt'],\n",
       "                         'min_samples_leaf': array([0.1       , 0.23333333, 0.36666667, 0.5       ]),\n",
       "                         'min_samples_split': array([0.1       , 0.23333333, 0.36666667, 0.5       ]),\n",
       "                         'n_estimators': [10], 'subsample': [0.3, 0.5]},\n",
       "             scoring='roc_auc', verbose=2)"
      ]
     },
     "execution_count": 482,
     "metadata": {},
     "output_type": "execute_result"
    }
   ],
   "source": [
    "# # lg = RandomForestClassifier(n_estimators = 200, max_features='sqrt', max_depth = 50, min_samples_split=5, min_samples_leaf = 2, bootstrap = True)\n",
    "# lg = GradientBoostingClassifier()\n",
    "# lg.fit(X_train, y_train)\n",
    "# # print(lg.get_n_leaves())\n",
    "# y_pred_train = lg.predict(X_train)\n",
    "# print(roc_auc_score(y_train, y_pred_train))\n",
    "# y_pred = lg.predict(X_test)\n",
    "# roc_auc_score(y_test, y_pred)\n",
    "\n",
    "parameters = {\n",
    "    \"learning_rate\": [0.01, 0.05, 0.1, 0.2],\n",
    "    \"min_samples_split\": np.linspace(0.1, 0.5, 4),\n",
    "    \"min_samples_leaf\": np.linspace(0.1, 0.5, 4),\n",
    "    \"max_depth\":[5,20,50,100,500,1000],\n",
    "    \"max_features\":[\"sqrt\"],\n",
    "    \"subsample\":[0.3, 0.5],\n",
    "    \"n_estimators\":[10]\n",
    "    }\n",
    "\n",
    "# param_grid = {'max_features': ['auto', 'sqrt', 'log2'],\n",
    "#               'max_depth' : [5, 6, 7, 8, 9],\n",
    "#               'criterion' :['gini', 'entropy']\n",
    "#              }\n",
    "# clf = GridSearchCV(DecisionTreeClassifier(), param_grid = param_grid, cv = StratifiedKFold(10), n_jobs = -1, verbose = 2, scoring = 'roc_auc')\n",
    "\n",
    "clf = GridSearchCV(GradientBoostingClassifier(), parameters, cv=StratifiedKFold(10), n_jobs=-1, verbose=2, scoring = 'roc_auc')\n",
    "\n",
    "clf.fit(X_train, y_train)"
   ]
  },
  {
   "cell_type": "code",
   "execution_count": 484,
   "metadata": {},
   "outputs": [],
   "source": [
    "# clf.best_score_\n",
    "# y_pred = clf.predict(X_test)\n",
    "# roc_auc_score(y_test, y_pred)\n",
    "# clf.cv_results_['mean_test_score']"
   ]
  },
  {
   "cell_type": "code",
   "execution_count": 474,
   "metadata": {},
   "outputs": [
    {
     "name": "stdout",
     "output_type": "stream",
     "text": [
      "1.0\n"
     ]
    },
    {
     "data": {
      "text/plain": [
       "0.5880531132720019"
      ]
     },
     "execution_count": 474,
     "metadata": {},
     "output_type": "execute_result"
    }
   ],
   "source": [
    "dt = DecisionTreeClassifier()\n",
    "\n",
    "dt.fit(X_train, y_train)\n",
    "y_pred_train = dt.predict(X_train)\n",
    "print(roc_auc_score(y_train, y_pred_train))\n",
    "\n",
    "y_pred = dt.predict(X_test)\n",
    "\n",
    "roc_auc_score(y_test, y_pred)"
   ]
  },
  {
   "cell_type": "code",
   "execution_count": null,
   "metadata": {},
   "outputs": [],
   "source": []
  }
 ],
 "metadata": {
  "kernelspec": {
   "display_name": "Python 3",
   "language": "python",
   "name": "python3"
  },
  "language_info": {
   "codemirror_mode": {
    "name": "ipython",
    "version": 3
   },
   "file_extension": ".py",
   "mimetype": "text/x-python",
   "name": "python",
   "nbconvert_exporter": "python",
   "pygments_lexer": "ipython3",
   "version": "3.7.6"
  }
 },
 "nbformat": 4,
 "nbformat_minor": 4
}
