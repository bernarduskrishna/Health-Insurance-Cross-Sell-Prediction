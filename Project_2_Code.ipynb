{
 "cells": [
  {
   "cell_type": "code",
   "execution_count": 14,
   "metadata": {},
   "outputs": [],
   "source": [
    "import pandas as pd\n",
    "import numpy as np\n",
    "from sklearn.preprocessing import OneHotEncoder\n",
    "from sklearn.linear_model import LogisticRegression\n",
    "from sklearn.model_selection import train_test_split\n",
    "from sklearn.model_selection import GridSearchCV\n",
    "from sklearn.tree import DecisionTreeClassifier\n",
    "from sklearn.ensemble import AdaBoostClassifier\n",
    "from sklearn.ensemble import GradientBoostingClassifier\n",
    "from sklearn.ensemble import RandomForestClassifier\n",
    "from sklearn import tree\n",
    "import matplotlib.pyplot as plt\n",
    "from sklearn.metrics import roc_auc_score\n",
    "from sklearn.model_selection import train_test_split\n",
    "from sklearn.model_selection import StratifiedKFold\n",
    "from sklearn.model_selection import cross_val_score, StratifiedKFold"
   ]
  },
  {
   "cell_type": "code",
   "execution_count": 84,
   "metadata": {},
   "outputs": [
    {
     "name": "stdout",
     "output_type": "stream",
     "text": [
      "      Unnamed: 0      id  Gender  Age  Region_Code      Age.1 VehicleDamage  \\\n",
      "0              1  319654    Male   22           46   < 1 Year           Yes   \n",
      "1              2  298528  Female   40           28   1-2 Year           Yes   \n",
      "2              3  120858    Male   25           28   1-2 Year           Yes   \n",
      "3              4  234326  Female   25           29   < 1 Year            No   \n",
      "4              5  372307  Female   70           28   1-2 Year            No   \n",
      "...          ...     ...     ...  ...          ...        ...           ...   \n",
      "9995        9996   93671    Male   28           41   < 1 Year           Yes   \n",
      "9996        9997  366284    Male   43           46  > 2 Years           Yes   \n",
      "9997        9998  369037  Female   46           28   1-2 Year            No   \n",
      "9998        9999  268384  Female   21           30   < 1 Year            No   \n",
      "9999       10000   58856  Female   20           11   < 1 Year            No   \n",
      "\n",
      "      Premium  Vintage  Response Mystery  \n",
      "0       29719       79         0      M3  \n",
      "1       29645       99         0     M20  \n",
      "2       35996      266         1      M3  \n",
      "3       56899       25         0     M20  \n",
      "4       47452      189         0     M17  \n",
      "...       ...      ...       ...     ...  \n",
      "9995     2630       31         1      M3  \n",
      "9996    28945       66         0     M13  \n",
      "9997     2630      286         0      M4  \n",
      "9998    23031      155         0     M16  \n",
      "9999    27373       11         0      M3  \n",
      "\n",
      "[10000 rows x 11 columns]\n"
     ]
    }
   ],
   "source": [
    "train_data = pd.read_csv('Project2_Train.csv')\n",
    "test_data = pd.read_csv('Project2_Test.csv')\n",
    "test_data = test_data.rename({'Damage': 'VehicleDamage'}, axis=1)\n",
    "\n",
    "# np.unique(train_data['Response'], return_counts = True)\n",
    "combined = pd.concat([train_data, test_data], ignore_index = True)\n",
    "print(train_data)\n",
    "\n",
    "train_data, test_data = train_test_split(combined\n",
    "                                         , stratify = combined['Response'], shuffle = True, test_size = 0.5, random_state = 1313)\n",
    "\n",
    "train_data.reset_index(inplace = True)\n",
    "test_data.reset_index(inplace = True)\n",
    "\n",
    "# print(train_data)\n",
    "# set_train_indices = set(np.random.choice(range(0, 20000), size=10000, replace=False, p=None))\n",
    "# train_indices = [i in set_train_indices for i in range(20000)]\n",
    "# test_indices = [i not in set_train_indices for i in range(20000)]\n",
    "\n",
    "# train_data = combined[train_indices].reset_index()\n",
    "# test_data = combined[test_indices].reset_index()"
   ]
  },
  {
   "cell_type": "code",
   "execution_count": 85,
   "metadata": {},
   "outputs": [],
   "source": [
    "def preprocess(data, oneHotEncodedCategories, drop_mystery):\n",
    "    return_data = data.copy()\n",
    "    for cat in oneHotEncodedCategories:\n",
    "        encoder = OneHotEncoder()\n",
    "        encoder_df = pd.DataFrame(encoder.fit_transform(return_data[[cat]]).toarray())\n",
    "        encoder_df.columns = [cat + \" \" + name.split('_', 1)[1] for name in encoder.get_feature_names()]\n",
    "        return_data = return_data.join(encoder_df)\n",
    "        return_data.drop(cat, axis = 1, inplace = True)\n",
    "    if drop_mystery:\n",
    "        return_data.drop('Mystery', axis = 1, inplace = True)\n",
    "    return return_data"
   ]
  },
  {
   "cell_type": "code",
   "execution_count": 86,
   "metadata": {},
   "outputs": [],
   "source": [
    "X_train_before = train_data[['Gender', 'Age', 'Region_Code', 'Age.1', 'VehicleDamage', 'Premium', 'Vintage', 'Mystery']]\n",
    "y_train = train_data['Response']\n",
    "X_test_before = test_data[['Gender', 'Age', 'Region_Code', 'Age.1', 'VehicleDamage', 'Premium', 'Vintage', 'Mystery']]\n",
    "y_test = test_data['Response']\n",
    "\n",
    "X_train = preprocess(X_train_before, ['Gender', 'Region_Code', 'VehicleDamage', 'Age.1'], True)\n",
    "X_test = preprocess(X_test_before, ['Gender', 'Region_Code', 'VehicleDamage', 'Age.1'], True)"
   ]
  },
  {
   "cell_type": "code",
   "execution_count": 77,
   "metadata": {},
   "outputs": [],
   "source": [
    "def train_one_model(estimator, param_grid):\n",
    "    grid_rf_class = GridSearchCV(\n",
    "        estimator = estimator,\n",
    "        param_grid = param_grid,\n",
    "        scoring = 'roc_auc',\n",
    "        n_jobs = 3,\n",
    "        cv = StratifiedKFold(),\n",
    "        refit = True,\n",
    "        return_train_score = True\n",
    "    )\n",
    "    \n",
    "    grid_rf_class.fit(X_train, y_train)\n",
    "    \n",
    "#     print(grid_rf_class.cv_results_)\n",
    "\n",
    "    return grid_rf_class\n",
    "\n",
    "#     return (grid_rf_class.best_score_, grid_rf_class.best_params_, grid_rf_class.best_estimator_)"
   ]
  },
  {
   "cell_type": "code",
   "execution_count": 94,
   "metadata": {},
   "outputs": [
    {
     "name": "stdout",
     "output_type": "stream",
     "text": [
      "--------------------------\n",
      "Logistic Regression\n",
      "best cv score: 0.8115591692276635\n",
      "best params: {}\n",
      "roc auc score of test: 0.5041596601659225\n",
      "--------------------------\n",
      "--------------------------\n",
      "Decision Tree\n",
      "best cv score: 0.8108210437699592\n",
      "best params: {'max_depth': 6}\n",
      "roc auc score of test: 0.500638047929834\n",
      "--------------------------\n",
      "--------------------------\n",
      "Random Forest\n",
      "best cv score: 0.819686495332221\n",
      "best params: {'max_depth': 7, 'n_estimators': 100}\n",
      "roc auc score of test: 0.5\n",
      "--------------------------\n"
     ]
    }
   ],
   "source": [
    "estimator_names = [\"Logistic Regression\", \"Decision Tree\", \"Random Forest\", \"Gradient Boost\"]\n",
    "estimators = [LogisticRegression(), DecisionTreeClassifier(), RandomForestClassifier(), GradientBoostingClassifier()]\n",
    "\n",
    "diff_weights = np.linspace(0.0, 1, 7)\n",
    "\n",
    "param_grids = [{\n",
    "#                    'class_weight': [{0: w, 1: (1 - w)} for w in diff_weights]\n",
    "               }, \n",
    "               {\n",
    "#                    'class_weight': [{0: w, 1: (1 - w)} for w in diff_weights],\n",
    "                   'max_depth': [2, 3, 4, 5, 6, 7]\n",
    "               },\n",
    "               {\n",
    "                   'n_estimators': [10, 50, 100],\n",
    "                   'max_depth': [2, 3, 4, 5, 6, 7]\n",
    "               },\n",
    "               {},\n",
    "               {\n",
    "                   'learning_rate': [0.01, 0.05, 0.1, 0.2],\n",
    "                   'n_estimators': [40, 55, 70, 100],\n",
    "                   'max_depth': [2, 4, 7, 10]\n",
    "               }\n",
    "              ]\n",
    "\n",
    "# for i in range(0, len(estimators)):\n",
    "for i in range(0, 3):\n",
    "    print('--------------------------')\n",
    "    grid_rf_class = train_one_model(estimators[i], param_grids[i])\n",
    "    \n",
    "    print(estimator_names[i])\n",
    "    \n",
    "    print('best cv score: ' + str(grid_rf_class.best_score_))\n",
    "    print('best params: ' + str(grid_rf_class.best_params_))\n",
    "    \n",
    "    y_pred = grid_rf_class.best_estimator_.predict(X_test)\n",
    "\n",
    "    print('roc auc score of test: ' + str(roc_auc_score(y_test, y_pred)))\n",
    "    print('--------------------------')"
   ]
  },
  {
   "cell_type": "code",
   "execution_count": 88,
   "metadata": {},
   "outputs": [
    {
     "data": {
      "image/png": "[encoded data removed]",
      "text/plain": [
       "<Figure size 432x288 with 1 Axes>"
      ]
     },
     "metadata": {},
     "output_type": "display_data"
    }
   ],
   "source": [
    "diff_weights = np.linspace(0.0, 1, 100)\n",
    "weights = [{0: w, 1: (1 - w)} for w in diff_weights]\n",
    "\n",
    "scores = []\n",
    "\n",
    "for w in weights:\n",
    "    kf = StratifiedKFold(n_splits = 10, shuffle = True)\n",
    "    model = DecisionTreeClassifier(max_depth = 5, class_weight = w, random_state = 1313)\n",
    "    \n",
    "    cv_scores = cross_val_score(model, X_train, y_train, cv=kf, scoring='roc_auc')\n",
    "    scores.append(np.mean(cv_scores))\n",
    "\n",
    "plt.plot(diff_weights, scores)\n",
    "plt.show()"
   ]
  },
  {
   "cell_type": "code",
   "execution_count": 90,
   "metadata": {},
   "outputs": [
    {
     "name": "stdout",
     "output_type": "stream",
     "text": [
      "Fitting 5 folds for each of 100 candidates, totalling 500 fits\n"
     ]
    },
    {
     "name": "stderr",
     "output_type": "stream",
     "text": [
      "[Parallel(n_jobs=-1)]: Using backend LokyBackend with 12 concurrent workers.\n",
      "[Parallel(n_jobs=-1)]: Done  17 tasks      | elapsed:    0.0s\n",
      "[Parallel(n_jobs=-1)]: Done 429 tasks      | elapsed:    1.9s\n",
      "[Parallel(n_jobs=-1)]: Done 500 out of 500 | elapsed:    2.1s finished\n"
     ]
    },
    {
     "data": {
      "text/plain": [
       "Text(0.5, 1.0, 'Scoring for different class weights')"
      ]
     },
     "execution_count": 90,
     "metadata": {},
     "output_type": "execute_result"
    },
    {
     "data": {
      "image/png": "[encoded data removed]",
      "text/plain": [
       "<Figure size 864x576 with 1 Axes>"
      ]
     },
     "metadata": {},
     "output_type": "display_data"
    }
   ],
   "source": [
    "from sklearn.model_selection import GridSearchCV, StratifiedKFold\n",
    "import seaborn as sns\n",
    "lr = DecisionTreeClassifier(max_depth = 5)\n",
    "\n",
    "#Setting the range for class weights\n",
    "weights = np.linspace(0.0,0.99,100)\n",
    "\n",
    "#Creating a dictionary grid for grid search\n",
    "param_grid = {'class_weight': [{0:x, 1:1.0-x} for x in weights]}\n",
    "\n",
    "#Fitting grid search to the train data with 5 folds\n",
    "gridsearch = GridSearchCV(estimator= lr, \n",
    "                          param_grid= param_grid,\n",
    "                          cv=StratifiedKFold(), \n",
    "                          n_jobs=-1, \n",
    "                          scoring='roc_auc', \n",
    "                          verbose=2).fit(X_train, y_train)\n",
    "\n",
    "#Ploting the score for different values of weight\n",
    "sns.set_style('whitegrid')\n",
    "plt.figure(figsize=(12,8))\n",
    "weigh_data = pd.DataFrame({ 'score': gridsearch.cv_results_['mean_test_score'], 'weight': (1- weights)})\n",
    "sns.lineplot(weigh_data['weight'], weigh_data['score'])\n",
    "plt.xlabel('Weight for class 1')\n",
    "plt.ylabel('F1 score')\n",
    "plt.xticks([round(i/10,1) for i in range(0,11,1)])\n",
    "plt.title('Scoring for different class weights', fontsize=24)"
   ]
  },
  {
   "cell_type": "code",
   "execution_count": null,
   "metadata": {},
   "outputs": [],
   "source": []
  }
 ],
 "metadata": {
  "kernelspec": {
   "display_name": "Python 3",
   "language": "python",
   "name": "python3"
  },
  "language_info": {
   "codemirror_mode": {
    "name": "ipython",
    "version": 3
   },
   "file_extension": ".py",
   "mimetype": "text/x-python",
   "name": "python",
   "nbconvert_exporter": "python",
   "pygments_lexer": "ipython3",
   "version": "3.7.6"
  }
 },
 "nbformat": 4,
 "nbformat_minor": 4
}
